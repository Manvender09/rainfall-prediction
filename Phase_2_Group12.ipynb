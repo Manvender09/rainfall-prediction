{
 "cells": [
  {
   "cell_type": "markdown",
   "id": "5eb6692d",
   "metadata": {},
   "source": [
    "# Task 1: Introduction \n",
    "## Task 1.1: Phase 1 Summary \n",
    "In Phase 1, we focused on preparing a weather dataset for predictive modeling. The key steps included:\n",
    "\n",
    "#### Data Cleaning:\n",
    "We addressed missing values by filling in numerical columns with their median values and categorical columns with their mode. We also dropped columns that were deemed irrelevant or could potentially lead to overfitting.\n",
    "\n",
    "#### Exploratory Data Analysis (EDA): \n",
    "We conducted thorough EDA using statistical summaries and visualizations. This included generating descriptive statistics, box plots, histograms, scatter plots, and 3D scatter plots to understand the relationships between features and the target variable, RainTomorrow.\n",
    "\n",
    "#### Feature Selection and Engineering:\n",
    "We identified key features that significantly impact rainfall prediction, such as temperature, humidity, and wind conditions. We also created interaction terms and transformed features to better capture the relationships in the data.\n",
    "These steps were crucial in ensuring that the dataset was clean, well-understood, and ready for Phase 2's predictive modeling. The insights gained from Phase 1 guided the selection of features and informed our approach to model development and evaluation in Phase 2.\n",
    "\n",
    "These steps were crucial in ensuring that the dataset was clean, well-understood, and ready for Phase 2's predictive modeling. The insights gained from Phase 1 guided the selection of features and informed our approach to model development and evaluation in Phase 2."
   ]
  },
  {
   "cell_type": "markdown",
   "id": "f5e0eac5",
   "metadata": {},
   "source": [
    "## Task 1.2: Report Overview\n",
    "\n",
    "This Phase 2 report is structured to provide a comprehensive account of our predictive modeling efforts for rainfall prediction. The report includes the following sections:\n",
    "\n",
    "#### Introduction:\n",
    "Provides a summary of Phase 1, an overview of the Phase 2 report, and a detailed description of our predictive modeling methodology.\n",
    "\n",
    "#### Predictive Modelling:\n",
    "Details the feature selection process, model fitting and tuning, and model comparison. This section includes plots and discussions on hyperparameter tuning and the performance of different machine learning algorithms.\n",
    "Critique & Limitations: Discusses the strengths and weaknesses of our approach, including any limitations encountered during the analysis.\n",
    "Summary & Conclusions:\n",
    "Summarizes the entire project, including Phase 1 and Phase 2, highlights key findings, and presents our conclusions related to the project goals and objectives."
   ]
  },
  {
   "cell_type": "markdown",
   "id": "ead4d041",
   "metadata": {},
   "source": [
    "## Task 1.3: Overview of Methodology \n",
    "Our predictive modeling methodology for Phase 2 consists of the following steps:\n",
    "\n",
    "#### Feature Selection:\n",
    "\n",
    "We employ statistical methods such as ANOVA (f_classif) to select the most relevant features for predicting rainfall.\n",
    "Visualizations such as heatmaps and feature importance plots help us understand the relationships between features and the target variable.\n",
    "\n",
    "#### Model Fitting & Tuning:\n",
    "\n",
    "We train and fine-tune four machine learning models like KNN,Decision Tree, Random Forest and logestic Regression.\n",
    "Hyperparameter tuning is performed using techniques like grid search and random search to optimize model performance.\n",
    "For each model, we generate plots to visualize the tuning process and evaluate the impact of different hyperparameters.\n",
    "\n",
    "\n",
    "#### Model Evaluation:\n",
    "\n",
    "We evaluate the models using metrics such as accuracy, precision, recall and F1-score.\n",
    "Cross-validation is performed to ensure the robustness of the models.\n",
    "Paired t-tests are used to statistically compare the performance of different models.\n",
    "\n",
    "#### Model Comparison:\n",
    "\n",
    "We compare the performance of different algorithms, discussing the strengths and weaknesses of each.\n",
    "Plots and statistical tests are used to present the comparison results.\n",
    "\n",
    "#### Critique & Limitations:\n",
    "\n",
    "We critically evaluated our approach, highlighting both the strengths and the limitations encountered during the analysis.\n",
    "\n",
    "#### Summary & Conclusions:\n",
    "\n",
    "We provide a comprehensive summary of the entire project, detailing the steps taken, the findings, and the conclusions drawn."
   ]
  },
  {
   "cell_type": "markdown",
   "id": "8b4d5c40",
   "metadata": {},
   "source": [
    "## Modelling:"
   ]
  },
  {
   "cell_type": "code",
   "execution_count": 3,
   "id": "041c9f9d",
   "metadata": {},
   "outputs": [],
   "source": [
    "# Libraries were imported and the data set which was in the csv format was loaded.\n",
    "import pandas as pd\n",
    "from sklearn.feature_selection import SelectKBest, f_classif\n",
    "import matplotlib.pyplot as plt\n",
    "\n",
    "preprocessed_data = pd.read_csv(\"Phase_2_Group12.csv\")"
   ]
  },
  {
   "cell_type": "code",
   "execution_count": 4,
   "id": "7585a6b8",
   "metadata": {},
   "outputs": [],
   "source": [
    "# Split features and target variable for modelling\n",
    "\n",
    "X = preprocessed_data.drop(columns=['RainTomorrow'])\n",
    "y = preprocessed_data['RainTomorrow']\n"
   ]
  },
  {
   "cell_type": "code",
   "execution_count": 5,
   "id": "3f1fb7d0",
   "metadata": {},
   "outputs": [],
   "source": [
    "# Select best features using ANOVA F-test\n",
    "selector = SelectKBest(score_func=f_classif, k=10)\n",
    "X_new = selector.fit_transform(X, y)\n"
   ]
  },
  {
   "cell_type": "code",
   "execution_count": 6,
   "id": "fe9fff12",
   "metadata": {},
   "outputs": [],
   "source": [
    "# Get selected feature names\n",
    "selected_features = X.columns[selector.get_support()]\n"
   ]
  },
  {
   "cell_type": "code",
   "execution_count": 7,
   "id": "e2e57188",
   "metadata": {},
   "outputs": [
    {
     "data": {
      "image/png": "[encoded data removed]",
      "text/plain": [
       "<Figure size 432x288 with 1 Axes>"
      ]
     },
     "metadata": {
      "needs_background": "light"
     },
     "output_type": "display_data"
    },
    {
     "data": {
      "text/plain": [
       "Index(['MaxTemp', 'WindGustSpeed', 'WindDir9am', 'WindSpeed9am',\n",
       "       'WindSpeed3pm', 'Humidity9am', 'Humidity3pm', 'Pressure9am',\n",
       "       'Pressure3pm', 'Temp3pm'],\n",
       "      dtype='object')"
      ]
     },
     "execution_count": 7,
     "metadata": {},
     "output_type": "execute_result"
    }
   ],
   "source": [
    "# Plot feature scores\n",
    "scores = selector.scores_[selector.get_support()]\n",
    "plt.barh(selected_features, scores)\n",
    "plt.xlabel('ANOVA F-score')\n",
    "plt.ylabel('Features')\n",
    "plt.title('Feature Selection using ANOVA F-test')\n",
    "plt.show()\n",
    "\n",
    "selected_features"
   ]
  },
  {
   "cell_type": "markdown",
   "id": "e60ac06f",
   "metadata": {},
   "source": [
    "This above plot shows the results of feature selection using the ANOVA F-test. The X-axis represents the ANOVA F-scores, indicating feature importance. \"Humidity3pm\" has the highest F-score, signifying the strongest relationship with the target variable, while other features like \"Temp3pm\" and \"WindSpeed3pm\" have lower scores, indicating weaker relationships."
   ]
  },
  {
   "cell_type": "markdown",
   "id": "150ccb55",
   "metadata": {},
   "source": [
    "# KNN"
   ]
  },
  {
   "cell_type": "code",
   "execution_count": 8,
   "id": "9b89e453",
   "metadata": {},
   "outputs": [],
   "source": [
    "from sklearn.model_selection import train_test_split\n",
    "from sklearn.preprocessing import StandardScaler\n",
    "from sklearn.neighbors import KNeighborsClassifier\n",
    "from sklearn.metrics import accuracy_score\n",
    "from sklearn.metrics import accuracy_score, classification_report, confusion_matrix\n",
    "from sklearn.tree import DecisionTreeClassifier \n",
    "from sklearn.model_selection import train_test_split \n",
    "from sklearn import metrics \n",
    "import matplotlib.pyplot as plt\n",
    "import seaborn as sns"
   ]
  },
  {
   "cell_type": "code",
   "execution_count": 9,
   "id": "3ba9511a",
   "metadata": {},
   "outputs": [],
   "source": [
    "#This code splits the dataset \\(X\\) and target variable \\(y\\) into training and testing sets with a 75-25% split,\n",
    "#ensuring reproducibility with `random_state = 0`.\n",
    "X_train, X_test, y_train, y_test = train_test_split(X, y,random_state = 0)"
   ]
  },
  {
   "cell_type": "code",
   "execution_count": 10,
   "id": "e19ac8cc",
   "metadata": {},
   "outputs": [],
   "source": [
    "# This code evaluates the KNN classifier's accuracy for different values of \\(k\\) (1 to 14) and \n",
    "#stores the results in the `accuracy` list.\n",
    "n=list(range(1,15))\n",
    "accuracy=[]\n",
    "for i in range (1,15):\n",
    "    knn=KNeighborsClassifier(n_neighbors=i)\n",
    "    knn.fit(X_train,y_train)\n",
    "    ypred=knn.predict(X_test)\n",
    "    ac=accuracy_score(y_test,ypred)\n",
    "    accuracy.append(ac)"
   ]
  },
  {
   "cell_type": "code",
   "execution_count": 11,
   "id": "8503df06",
   "metadata": {},
   "outputs": [
    {
     "data": {
      "image/png": "[encoded data removed]",
      "text/plain": [
       "<Figure size 432x288 with 1 Axes>"
      ]
     },
     "metadata": {
      "needs_background": "light"
     },
     "output_type": "display_data"
    }
   ],
   "source": [
    "#This code plots the accuracy scores against different values of \\(k\\) for the KNN classifier, \n",
    "#with grid lines enabled for better visualization.\n",
    "plt.plot(n,accuracy)\n",
    "plt.grid(True)\n",
    "plt.show()"
   ]
  },
  {
   "cell_type": "markdown",
   "id": "b5a95321",
   "metadata": {},
   "source": [
    "The plot shows that the KNN model's performance varies with different k values, with the best performance at k=5. Beyond this point, the accuracy remains relatively stable, indicating that the model is not overly sensitive to the choice of k within the tested range."
   ]
  },
  {
   "cell_type": "code",
   "execution_count": 12,
   "id": "d715ee8f",
   "metadata": {},
   "outputs": [
    {
     "data": {
      "text/plain": [
       "array([[593,  19],\n",
       "       [ 83,  65]], dtype=int64)"
      ]
     },
     "execution_count": 12,
     "metadata": {},
     "output_type": "execute_result"
    }
   ],
   "source": [
    "clf = KNeighborsClassifier(n_neighbors=5,weights='distance',p=1)\n",
    "fit = clf.fit(X_train, y_train)\n",
    "predicted = fit.predict(X_test)\n",
    "confusion_matrix(y_test, predicted)"
   ]
  },
  {
   "cell_type": "code",
   "execution_count": 13,
   "id": "085b4e64",
   "metadata": {},
   "outputs": [
    {
     "data": {
      "text/plain": [
       "array([[591,  21],\n",
       "       [ 79,  69]], dtype=int64)"
      ]
     },
     "execution_count": 13,
     "metadata": {},
     "output_type": "execute_result"
    }
   ],
   "source": [
    "clf = KNeighborsClassifier(n_neighbors=5,weights='distance',p=2)\n",
    "fit = clf.fit(X_train, y_train)\n",
    "predicted = fit.predict(X_test)\n",
    "confusion_matrix(y_test, predicted)"
   ]
  },
  {
   "cell_type": "markdown",
   "id": "da9c2dc3",
   "metadata": {},
   "source": [
    "The above two code blocks evaluate KNN classifiers with \\(k=5\\) and distance-based weights for \\(p=1\\) (Manhattan distance) and \\(p=2\\) (Euclidean distance), fitting the model on the training data, predicting the test data, and displaying the confusion matrices."
   ]
  },
  {
   "cell_type": "code",
   "execution_count": 14,
   "id": "baaab3f7",
   "metadata": {},
   "outputs": [],
   "source": [
    "final_model = KNeighborsClassifier(n_neighbors=5,weights='distance',p=2)\n",
    "final_model.fit(X_train, y_train)\n",
    "final_ypredict = final_model.predict(X_test)\n"
   ]
  },
  {
   "cell_type": "code",
   "execution_count": 15,
   "id": "520f344b",
   "metadata": {},
   "outputs": [
    {
     "name": "stdout",
     "output_type": "stream",
     "text": [
      "Final Model Accuracy with k = 5: 0.868421052631579\n"
     ]
    }
   ],
   "source": [
    "optimal_k=5\n",
    "final_accuracy = accuracy_score(y_test, final_ypredict)\n",
    "print(f'Final Model Accuracy with k = {optimal_k}: {final_accuracy}')"
   ]
  },
  {
   "cell_type": "markdown",
   "id": "43397e7e",
   "metadata": {},
   "source": [
    "The final KNN model, with k=1 and Euclidean distance, achieved an accuracy of approximately 86.8%."
   ]
  },
  {
   "cell_type": "code",
   "execution_count": 16,
   "id": "9457345e",
   "metadata": {},
   "outputs": [
    {
     "name": "stdout",
     "output_type": "stream",
     "text": [
      "\n",
      "Classification Report:\n",
      "              precision    recall  f1-score   support\n",
      "\n",
      "           0       0.88      0.97      0.92       612\n",
      "           1       0.77      0.47      0.58       148\n",
      "\n",
      "    accuracy                           0.87       760\n",
      "   macro avg       0.82      0.72      0.75       760\n",
      "weighted avg       0.86      0.87      0.86       760\n",
      "\n"
     ]
    }
   ],
   "source": [
    "print(\"\\nClassification Report:\")\n",
    "print(classification_report(y_test, final_ypredict))"
   ]
  },
  {
   "cell_type": "markdown",
   "id": "ab965d5a",
   "metadata": {},
   "source": [
    "Class 0:\n",
    "Precision: 0.88 (Out of all predicted positives, 88% are correctly positive)\n",
    "Recall: 0.97 (Out of all actual positives, 97% are correctly identified)\n",
    "F1-score: 0.92 (Harmonic mean of precision and recall)\n",
    "Support: 612 (Number of actual occurrences)\n",
    "\n",
    "Class 1:\n",
    "Precision: 0.77 (Out of all predicted positives, 77% are correctly positive)\n",
    "Recall: 0.47 (Out of all actual positives, 47% are correctly identified)\n",
    "F1-score: 0.58 (Harmonic mean of precision and recall)\n",
    "Support: 148 (Number of actual occurrences)\n",
    "\n",
    "Overall:\n",
    "Accuracy: 0.87 (Overall correctly classified instances)\n",
    "Macro Avg: Averages the metrics across classes, treating all classes equally\n",
    "Weighted Avg: Averages the metrics across classes, considering the support of each class"
   ]
  },
  {
   "cell_type": "code",
   "execution_count": 17,
   "id": "fba1a482",
   "metadata": {},
   "outputs": [
    {
     "name": "stdout",
     "output_type": "stream",
     "text": [
      "\n",
      "Confusion Matrix:\n",
      "[[591  21]\n",
      " [ 79  69]]\n"
     ]
    }
   ],
   "source": [
    "print(\"\\nConfusion Matrix:\")\n",
    "print(confusion_matrix(y_test, final_ypredict))"
   ]
  },
  {
   "cell_type": "markdown",
   "id": "4113b79f",
   "metadata": {},
   "source": [
    "The confusion matrix shows that the model performs well in predicting the majority class (0) with a high number of true negatives (591) and a relatively low number of false positives (21). For the minority class (1), the model has a decent number of true positives (69) but a higher number of false negatives (79), indicating some difficulty in correctly identifying instances of the minority class."
   ]
  },
  {
   "cell_type": "markdown",
   "id": "f23cbc41",
   "metadata": {},
   "source": [
    "# Decision Tree"
   ]
  },
  {
   "cell_type": "code",
   "execution_count": 18,
   "id": "2d0a91f2",
   "metadata": {},
   "outputs": [],
   "source": [
    "clf = DecisionTreeClassifier()\n",
    "clf = clf.fit(X_train,y_train)"
   ]
  },
  {
   "cell_type": "markdown",
   "id": "6a1f11ac",
   "metadata": {},
   "source": [
    "This code below trains a Decision Tree classifier, performs grid search to find the best hyperparameters (criterion, max depth, and min samples split), and prints the best model parameters along with their accuracy. This helps in tuning the Decision Tree to achieve the highest possible accuracy on the test set."
   ]
  },
  {
   "cell_type": "code",
   "execution_count": 19,
   "id": "691c291f",
   "metadata": {},
   "outputs": [],
   "source": [
    "def decision_tree_grid_search(X_train, y_train, X_test, y_test):\n",
    "    criteria = ['gini']\n",
    "    max_depth_range = range(1, 11)\n",
    "    min_samples_split_range = range(2, 6)\n",
    "    \n",
    "    best_accuracy = 0\n",
    "    best_params = {}\n",
    "\n",
    "    for criterion in criteria:\n",
    "        for max_depth in max_depth_range:\n",
    "            for min_samples_split in min_samples_split_range:\n",
    "                clf = DecisionTreeClassifier(criterion=criterion, max_depth=max_depth, min_samples_split=min_samples_split,random_state=0)\n",
    "                clf.fit(X_train, y_train)\n",
    "                y_pred = clf.predict(X_test)\n",
    "                accuracy = accuracy_score(y_test, y_pred)\n",
    "                print(f'Criterion: {criterion}, Max Depth: {max_depth}, Min Samples Split: {min_samples_split}, Accuracy: {accuracy:.4f}')\n",
    "                \n",
    "                if accuracy > best_accuracy:\n",
    "                    best_accuracy = accuracy\n",
    "                    best_params = {'criterion': criterion, 'max_depth': max_depth, 'min_samples_split': min_samples_split}\n",
    "    \n",
    "    print(f'\\nBest Model Parameters: {best_params}, Best Accuracy: {best_accuracy:.4f}')\n"
   ]
  },
  {
   "cell_type": "code",
   "execution_count": 20,
   "id": "8893e7cf",
   "metadata": {},
   "outputs": [
    {
     "name": "stdout",
     "output_type": "stream",
     "text": [
      "Criterion: gini, Max Depth: 1, Min Samples Split: 2, Accuracy: 0.8553\n",
      "Criterion: gini, Max Depth: 1, Min Samples Split: 3, Accuracy: 0.8553\n",
      "Criterion: gini, Max Depth: 1, Min Samples Split: 4, Accuracy: 0.8553\n",
      "Criterion: gini, Max Depth: 1, Min Samples Split: 5, Accuracy: 0.8553\n",
      "Criterion: gini, Max Depth: 2, Min Samples Split: 2, Accuracy: 0.8658\n",
      "Criterion: gini, Max Depth: 2, Min Samples Split: 3, Accuracy: 0.8658\n",
      "Criterion: gini, Max Depth: 2, Min Samples Split: 4, Accuracy: 0.8658\n",
      "Criterion: gini, Max Depth: 2, Min Samples Split: 5, Accuracy: 0.8658\n",
      "Criterion: gini, Max Depth: 3, Min Samples Split: 2, Accuracy: 0.8711\n",
      "Criterion: gini, Max Depth: 3, Min Samples Split: 3, Accuracy: 0.8711\n",
      "Criterion: gini, Max Depth: 3, Min Samples Split: 4, Accuracy: 0.8711\n",
      "Criterion: gini, Max Depth: 3, Min Samples Split: 5, Accuracy: 0.8711\n",
      "Criterion: gini, Max Depth: 4, Min Samples Split: 2, Accuracy: 0.8632\n",
      "Criterion: gini, Max Depth: 4, Min Samples Split: 3, Accuracy: 0.8632\n",
      "Criterion: gini, Max Depth: 4, Min Samples Split: 4, Accuracy: 0.8632\n",
      "Criterion: gini, Max Depth: 4, Min Samples Split: 5, Accuracy: 0.8632\n",
      "Criterion: gini, Max Depth: 5, Min Samples Split: 2, Accuracy: 0.8513\n",
      "Criterion: gini, Max Depth: 5, Min Samples Split: 3, Accuracy: 0.8513\n",
      "Criterion: gini, Max Depth: 5, Min Samples Split: 4, Accuracy: 0.8513\n",
      "Criterion: gini, Max Depth: 5, Min Samples Split: 5, Accuracy: 0.8513\n",
      "Criterion: gini, Max Depth: 6, Min Samples Split: 2, Accuracy: 0.8513\n",
      "Criterion: gini, Max Depth: 6, Min Samples Split: 3, Accuracy: 0.8513\n",
      "Criterion: gini, Max Depth: 6, Min Samples Split: 4, Accuracy: 0.8539\n",
      "Criterion: gini, Max Depth: 6, Min Samples Split: 5, Accuracy: 0.8539\n",
      "Criterion: gini, Max Depth: 7, Min Samples Split: 2, Accuracy: 0.8553\n",
      "Criterion: gini, Max Depth: 7, Min Samples Split: 3, Accuracy: 0.8579\n",
      "Criterion: gini, Max Depth: 7, Min Samples Split: 4, Accuracy: 0.8579\n",
      "Criterion: gini, Max Depth: 7, Min Samples Split: 5, Accuracy: 0.8579\n",
      "Criterion: gini, Max Depth: 8, Min Samples Split: 2, Accuracy: 0.8592\n",
      "Criterion: gini, Max Depth: 8, Min Samples Split: 3, Accuracy: 0.8592\n",
      "Criterion: gini, Max Depth: 8, Min Samples Split: 4, Accuracy: 0.8579\n",
      "Criterion: gini, Max Depth: 8, Min Samples Split: 5, Accuracy: 0.8579\n",
      "Criterion: gini, Max Depth: 9, Min Samples Split: 2, Accuracy: 0.8513\n",
      "Criterion: gini, Max Depth: 9, Min Samples Split: 3, Accuracy: 0.8526\n",
      "Criterion: gini, Max Depth: 9, Min Samples Split: 4, Accuracy: 0.8553\n",
      "Criterion: gini, Max Depth: 9, Min Samples Split: 5, Accuracy: 0.8553\n",
      "Criterion: gini, Max Depth: 10, Min Samples Split: 2, Accuracy: 0.8355\n",
      "Criterion: gini, Max Depth: 10, Min Samples Split: 3, Accuracy: 0.8329\n",
      "Criterion: gini, Max Depth: 10, Min Samples Split: 4, Accuracy: 0.8395\n",
      "Criterion: gini, Max Depth: 10, Min Samples Split: 5, Accuracy: 0.8408\n",
      "\n",
      "Best Model Parameters: {'criterion': 'gini', 'max_depth': 3, 'min_samples_split': 2}, Best Accuracy: 0.8711\n"
     ]
    }
   ],
   "source": [
    "decision_tree_grid_search(X_train, y_train, X_test, y_test)"
   ]
  },
  {
   "cell_type": "markdown",
   "id": "417abd30",
   "metadata": {},
   "source": [
    "The best Decision Tree model uses the Gini impurity criterion, with a maximum depth of 3 and a minimum samples split of 2, achieving an accuracy of approximately 87.11%."
   ]
  },
  {
   "cell_type": "code",
   "execution_count": 21,
   "id": "df43d21a",
   "metadata": {},
   "outputs": [],
   "source": [
    "clf = DecisionTreeClassifier(criterion='gini', max_depth=3,min_samples_split=2,random_state=0)"
   ]
  },
  {
   "cell_type": "code",
   "execution_count": 22,
   "id": "ff678180",
   "metadata": {},
   "outputs": [],
   "source": [
    "clf = clf.fit(X_train,y_train)"
   ]
  },
  {
   "cell_type": "code",
   "execution_count": 23,
   "id": "8e8633dc",
   "metadata": {},
   "outputs": [],
   "source": [
    "final_ypredict = clf.predict(X_test)"
   ]
  },
  {
   "cell_type": "code",
   "execution_count": 24,
   "id": "dae8f768",
   "metadata": {},
   "outputs": [
    {
     "name": "stdout",
     "output_type": "stream",
     "text": [
      "Final Model Accuracy: 0.8710526315789474\n"
     ]
    }
   ],
   "source": [
    "final_accuracy = accuracy_score(y_test, final_ypredict)\n",
    "print(f'Final Model Accuracy: {final_accuracy}')\n"
   ]
  },
  {
   "cell_type": "code",
   "execution_count": 25,
   "id": "522e6b2a",
   "metadata": {},
   "outputs": [
    {
     "name": "stdout",
     "output_type": "stream",
     "text": [
      "\n",
      "Classification Report:\n",
      "              precision    recall  f1-score   support\n",
      "\n",
      "           0       0.89      0.96      0.92       612\n",
      "           1       0.75      0.51      0.60       148\n",
      "\n",
      "    accuracy                           0.87       760\n",
      "   macro avg       0.82      0.73      0.76       760\n",
      "weighted avg       0.86      0.87      0.86       760\n",
      "\n"
     ]
    }
   ],
   "source": [
    "print(\"\\nClassification Report:\")\n",
    "print(classification_report(y_test, final_ypredict))"
   ]
  },
  {
   "cell_type": "markdown",
   "id": "3198ba27",
   "metadata": {},
   "source": [
    "The best Decision Tree model achieves an overall accuracy of 87.11%. The model performs well in identifying the majority class (0) with high precision, recall, and F1-score. However, it struggles more with the minority class (1), showing lower precision, recall, and F1-score. The classification report highlights the model's performance metrics, providing a comprehensive evaluation of its strengths and weaknesses."
   ]
  },
  {
   "cell_type": "code",
   "execution_count": 26,
   "id": "78229a9b",
   "metadata": {},
   "outputs": [
    {
     "name": "stdout",
     "output_type": "stream",
     "text": [
      "\n",
      "Confusion Matrix:\n",
      "[[587  25]\n",
      " [ 73  75]]\n"
     ]
    }
   ],
   "source": [
    "print(\"\\nConfusion Matrix:\")\n",
    "print(confusion_matrix(y_test, final_ypredict))"
   ]
  },
  {
   "cell_type": "markdown",
   "id": "8b39486f",
   "metadata": {},
   "source": [
    "The confusion matrix indicates that the model performs well in predicting the majority class (0), with a high number of true negatives (587) and a relatively low number of false positives (25). For the minority class (1), the model has a decent number of true positives (75) but also a considerable number of false negatives (73), showing some difficulty in correctly identifying instances of the minority class. This aligns with the classification report, which showed lower precision and recall for class 1."
   ]
  },
  {
   "cell_type": "markdown",
   "id": "98b6cc32",
   "metadata": {},
   "source": [
    "# Logistic regression"
   ]
  },
  {
   "cell_type": "code",
   "execution_count": 27,
   "id": "ea1d612c",
   "metadata": {},
   "outputs": [],
   "source": [
    "from sklearn.model_selection import GridSearchCV\n",
    "from sklearn.linear_model import LogisticRegression\n",
    "from sklearn.metrics import classification_report\n",
    "from sklearn.metrics import confusion_matrix"
   ]
  },
  {
   "cell_type": "code",
   "execution_count": 28,
   "id": "8a908fb9",
   "metadata": {},
   "outputs": [
    {
     "name": "stdout",
     "output_type": "stream",
     "text": [
      "Best Parameters:  {'C': 0.01, 'solver': 'lbfgs'}\n",
      "Classification Report:\n",
      "              precision    recall  f1-score   support\n",
      "\n",
      "           0       0.89      0.97      0.93       612\n",
      "           1       0.79      0.53      0.63       148\n",
      "\n",
      "    accuracy                           0.88       760\n",
      "   macro avg       0.84      0.75      0.78       760\n",
      "weighted avg       0.87      0.88      0.87       760\n",
      "\n",
      "Confusion Matrix:\n",
      "[[591  21]\n",
      " [ 70  78]]\n"
     ]
    },
    {
     "name": "stderr",
     "output_type": "stream",
     "text": [
      "D:\\Anaconda\\lib\\site-packages\\sklearn\\utils\\deprecation.py:87: FutureWarning: Function plot_confusion_matrix is deprecated; Function `plot_confusion_matrix` is deprecated in 1.0 and will be removed in 1.2. Use one of the class methods: ConfusionMatrixDisplay.from_predictions or ConfusionMatrixDisplay.from_estimator.\n",
      "  warnings.warn(msg, category=FutureWarning)\n"
     ]
    },
    {
     "data": {
      "image/png": "[encoded data removed]",
      "text/plain": [
       "<Figure size 432x288 with 2 Axes>"
      ]
     },
     "metadata": {
      "needs_background": "light"
     },
     "output_type": "display_data"
    }
   ],
   "source": [
    "from sklearn.model_selection import GridSearchCV\n",
    "from sklearn.linear_model import LogisticRegression\n",
    "from sklearn.metrics import classification_report, confusion_matrix, plot_confusion_matrix\n",
    "\n",
    "# Define the parameter grid for Logistic Regression\n",
    "param_grid = {\n",
    "    'C': [0.01, 0.1, 1, 10, 100],\n",
    "    'solver': ['lbfgs', 'liblinear']\n",
    "}\n",
    "\n",
    "# Perform Grid Search with Cross-Validation\n",
    "grid_search = GridSearchCV(LogisticRegression(max_iter=1000), param_grid, cv=5, scoring='accuracy')\n",
    "grid_search.fit(X_train, y_train)\n",
    "\n",
    "# Display the best parameters\n",
    "print(\"Best Parameters: \", grid_search.best_params_)\n",
    "\n",
    "# Train the model with the best parameters\n",
    "best_model = grid_search.best_estimator_\n",
    "best_model.fit(X_train, y_train)\n",
    "\n",
    "# Make predictions\n",
    "y_pred = best_model.predict(X_test)\n",
    "\n",
    "# Generate and display the classification report\n",
    "print(\"Classification Report:\")\n",
    "print(classification_report(y_test, y_pred))\n",
    "\n",
    "# Generate and display the confusion matrix\n",
    "print(\"Confusion Matrix:\")\n",
    "cm = confusion_matrix(y_test, y_pred)\n",
    "print(cm)\n",
    "\n",
    "# Plot the confusion matrix\n",
    "plot_confusion_matrix(best_model, X_test, y_test, cmap=plt.cm.Blues)\n",
    "plt.title('Confusion Matrix')\n",
    "plt.show()\n",
    "\n"
   ]
  },
  {
   "cell_type": "markdown",
   "id": "1004f640",
   "metadata": {},
   "source": [
    "The Logistic Regression model with the best parameters (C=0.01, solver='lbfgs') achieves an overall accuracy of 88%. The classification report shows high precision and recall for the majority class (0) but lower metrics for the minority class (1). The confusion matrix indicates good performance in predicting class 0 with some challenges in correctly identifying class 1, which aligns with the lower recall for class 1 in the classification report."
   ]
  },
  {
   "cell_type": "markdown",
   "id": "821b2902",
   "metadata": {},
   "source": [
    "# Random Forest"
   ]
  },
  {
   "cell_type": "code",
   "execution_count": 29,
   "id": "4e206c2d",
   "metadata": {},
   "outputs": [
    {
     "name": "stderr",
     "output_type": "stream",
     "text": [
      "D:\\Anaconda\\lib\\site-packages\\sklearn\\ensemble\\_forest.py:427: FutureWarning: `max_features='auto'` has been deprecated in 1.1 and will be removed in 1.3. To keep the past behaviour, explicitly set `max_features='sqrt'` or remove this parameter as it is also the default value for RandomForestClassifiers and ExtraTreesClassifiers.\n",
      "  warn(\n",
      "D:\\Anaconda\\lib\\site-packages\\sklearn\\ensemble\\_forest.py:427: FutureWarning: `max_features='auto'` has been deprecated in 1.1 and will be removed in 1.3. To keep the past behaviour, explicitly set `max_features='sqrt'` or remove this parameter as it is also the default value for RandomForestClassifiers and ExtraTreesClassifiers.\n",
      "  warn(\n",
      "D:\\Anaconda\\lib\\site-packages\\sklearn\\ensemble\\_forest.py:427: FutureWarning: `max_features='auto'` has been deprecated in 1.1 and will be removed in 1.3. To keep the past behaviour, explicitly set `max_features='sqrt'` or remove this parameter as it is also the default value for RandomForestClassifiers and ExtraTreesClassifiers.\n",
      "  warn(\n",
      "D:\\Anaconda\\lib\\site-packages\\sklearn\\ensemble\\_forest.py:427: FutureWarning: `max_features='auto'` has been deprecated in 1.1 and will be removed in 1.3. To keep the past behaviour, explicitly set `max_features='sqrt'` or remove this parameter as it is also the default value for RandomForestClassifiers and ExtraTreesClassifiers.\n",
      "  warn(\n",
      "D:\\Anaconda\\lib\\site-packages\\sklearn\\ensemble\\_forest.py:427: FutureWarning: `max_features='auto'` has been deprecated in 1.1 and will be removed in 1.3. To keep the past behaviour, explicitly set `max_features='sqrt'` or remove this parameter as it is also the default value for RandomForestClassifiers and ExtraTreesClassifiers.\n",
      "  warn(\n",
      "D:\\Anaconda\\lib\\site-packages\\sklearn\\ensemble\\_forest.py:427: FutureWarning: `max_features='auto'` has been deprecated in 1.1 and will be removed in 1.3. To keep the past behaviour, explicitly set `max_features='sqrt'` or remove this parameter as it is also the default value for RandomForestClassifiers and ExtraTreesClassifiers.\n",
      "  warn(\n",
      "D:\\Anaconda\\lib\\site-packages\\sklearn\\ensemble\\_forest.py:427: FutureWarning: `max_features='auto'` has been deprecated in 1.1 and will be removed in 1.3. To keep the past behaviour, explicitly set `max_features='sqrt'` or remove this parameter as it is also the default value for RandomForestClassifiers and ExtraTreesClassifiers.\n",
      "  warn(\n",
      "D:\\Anaconda\\lib\\site-packages\\sklearn\\ensemble\\_forest.py:427: FutureWarning: `max_features='auto'` has been deprecated in 1.1 and will be removed in 1.3. To keep the past behaviour, explicitly set `max_features='sqrt'` or remove this parameter as it is also the default value for RandomForestClassifiers and ExtraTreesClassifiers.\n",
      "  warn(\n",
      "D:\\Anaconda\\lib\\site-packages\\sklearn\\ensemble\\_forest.py:427: FutureWarning: `max_features='auto'` has been deprecated in 1.1 and will be removed in 1.3. To keep the past behaviour, explicitly set `max_features='sqrt'` or remove this parameter as it is also the default value for RandomForestClassifiers and ExtraTreesClassifiers.\n",
      "  warn(\n",
      "D:\\Anaconda\\lib\\site-packages\\sklearn\\ensemble\\_forest.py:427: FutureWarning: `max_features='auto'` has been deprecated in 1.1 and will be removed in 1.3. To keep the past behaviour, explicitly set `max_features='sqrt'` or remove this parameter as it is also the default value for RandomForestClassifiers and ExtraTreesClassifiers.\n",
      "  warn(\n",
      "D:\\Anaconda\\lib\\site-packages\\sklearn\\ensemble\\_forest.py:427: FutureWarning: `max_features='auto'` has been deprecated in 1.1 and will be removed in 1.3. To keep the past behaviour, explicitly set `max_features='sqrt'` or remove this parameter as it is also the default value for RandomForestClassifiers and ExtraTreesClassifiers.\n",
      "  warn(\n",
      "D:\\Anaconda\\lib\\site-packages\\sklearn\\ensemble\\_forest.py:427: FutureWarning: `max_features='auto'` has been deprecated in 1.1 and will be removed in 1.3. To keep the past behaviour, explicitly set `max_features='sqrt'` or remove this parameter as it is also the default value for RandomForestClassifiers and ExtraTreesClassifiers.\n",
      "  warn(\n",
      "D:\\Anaconda\\lib\\site-packages\\sklearn\\ensemble\\_forest.py:427: FutureWarning: `max_features='auto'` has been deprecated in 1.1 and will be removed in 1.3. To keep the past behaviour, explicitly set `max_features='sqrt'` or remove this parameter as it is also the default value for RandomForestClassifiers and ExtraTreesClassifiers.\n",
      "  warn(\n",
      "D:\\Anaconda\\lib\\site-packages\\sklearn\\ensemble\\_forest.py:427: FutureWarning: `max_features='auto'` has been deprecated in 1.1 and will be removed in 1.3. To keep the past behaviour, explicitly set `max_features='sqrt'` or remove this parameter as it is also the default value for RandomForestClassifiers and ExtraTreesClassifiers.\n",
      "  warn(\n",
      "D:\\Anaconda\\lib\\site-packages\\sklearn\\ensemble\\_forest.py:427: FutureWarning: `max_features='auto'` has been deprecated in 1.1 and will be removed in 1.3. To keep the past behaviour, explicitly set `max_features='sqrt'` or remove this parameter as it is also the default value for RandomForestClassifiers and ExtraTreesClassifiers.\n",
      "  warn(\n",
      "D:\\Anaconda\\lib\\site-packages\\sklearn\\ensemble\\_forest.py:427: FutureWarning: `max_features='auto'` has been deprecated in 1.1 and will be removed in 1.3. To keep the past behaviour, explicitly set `max_features='sqrt'` or remove this parameter as it is also the default value for RandomForestClassifiers and ExtraTreesClassifiers.\n",
      "  warn(\n",
      "D:\\Anaconda\\lib\\site-packages\\sklearn\\ensemble\\_forest.py:427: FutureWarning: `max_features='auto'` has been deprecated in 1.1 and will be removed in 1.3. To keep the past behaviour, explicitly set `max_features='sqrt'` or remove this parameter as it is also the default value for RandomForestClassifiers and ExtraTreesClassifiers.\n",
      "  warn(\n",
      "D:\\Anaconda\\lib\\site-packages\\sklearn\\ensemble\\_forest.py:427: FutureWarning: `max_features='auto'` has been deprecated in 1.1 and will be removed in 1.3. To keep the past behaviour, explicitly set `max_features='sqrt'` or remove this parameter as it is also the default value for RandomForestClassifiers and ExtraTreesClassifiers.\n",
      "  warn(\n",
      "D:\\Anaconda\\lib\\site-packages\\sklearn\\ensemble\\_forest.py:427: FutureWarning: `max_features='auto'` has been deprecated in 1.1 and will be removed in 1.3. To keep the past behaviour, explicitly set `max_features='sqrt'` or remove this parameter as it is also the default value for RandomForestClassifiers and ExtraTreesClassifiers.\n",
      "  warn(\n",
      "D:\\Anaconda\\lib\\site-packages\\sklearn\\ensemble\\_forest.py:427: FutureWarning: `max_features='auto'` has been deprecated in 1.1 and will be removed in 1.3. To keep the past behaviour, explicitly set `max_features='sqrt'` or remove this parameter as it is also the default value for RandomForestClassifiers and ExtraTreesClassifiers.\n",
      "  warn(\n",
      "D:\\Anaconda\\lib\\site-packages\\sklearn\\ensemble\\_forest.py:427: FutureWarning: `max_features='auto'` has been deprecated in 1.1 and will be removed in 1.3. To keep the past behaviour, explicitly set `max_features='sqrt'` or remove this parameter as it is also the default value for RandomForestClassifiers and ExtraTreesClassifiers.\n",
      "  warn(\n",
      "D:\\Anaconda\\lib\\site-packages\\sklearn\\ensemble\\_forest.py:427: FutureWarning: `max_features='auto'` has been deprecated in 1.1 and will be removed in 1.3. To keep the past behaviour, explicitly set `max_features='sqrt'` or remove this parameter as it is also the default value for RandomForestClassifiers and ExtraTreesClassifiers.\n",
      "  warn(\n",
      "D:\\Anaconda\\lib\\site-packages\\sklearn\\ensemble\\_forest.py:427: FutureWarning: `max_features='auto'` has been deprecated in 1.1 and will be removed in 1.3. To keep the past behaviour, explicitly set `max_features='sqrt'` or remove this parameter as it is also the default value for RandomForestClassifiers and ExtraTreesClassifiers.\n",
      "  warn(\n",
      "D:\\Anaconda\\lib\\site-packages\\sklearn\\ensemble\\_forest.py:427: FutureWarning: `max_features='auto'` has been deprecated in 1.1 and will be removed in 1.3. To keep the past behaviour, explicitly set `max_features='sqrt'` or remove this parameter as it is also the default value for RandomForestClassifiers and ExtraTreesClassifiers.\n",
      "  warn(\n",
      "D:\\Anaconda\\lib\\site-packages\\sklearn\\ensemble\\_forest.py:427: FutureWarning: `max_features='auto'` has been deprecated in 1.1 and will be removed in 1.3. To keep the past behaviour, explicitly set `max_features='sqrt'` or remove this parameter as it is also the default value for RandomForestClassifiers and ExtraTreesClassifiers.\n",
      "  warn(\n"
     ]
    },
    {
     "name": "stderr",
     "output_type": "stream",
     "text": [
      "D:\\Anaconda\\lib\\site-packages\\sklearn\\ensemble\\_forest.py:427: FutureWarning: `max_features='auto'` has been deprecated in 1.1 and will be removed in 1.3. To keep the past behaviour, explicitly set `max_features='sqrt'` or remove this parameter as it is also the default value for RandomForestClassifiers and ExtraTreesClassifiers.\n",
      "  warn(\n",
      "D:\\Anaconda\\lib\\site-packages\\sklearn\\ensemble\\_forest.py:427: FutureWarning: `max_features='auto'` has been deprecated in 1.1 and will be removed in 1.3. To keep the past behaviour, explicitly set `max_features='sqrt'` or remove this parameter as it is also the default value for RandomForestClassifiers and ExtraTreesClassifiers.\n",
      "  warn(\n",
      "D:\\Anaconda\\lib\\site-packages\\sklearn\\ensemble\\_forest.py:427: FutureWarning: `max_features='auto'` has been deprecated in 1.1 and will be removed in 1.3. To keep the past behaviour, explicitly set `max_features='sqrt'` or remove this parameter as it is also the default value for RandomForestClassifiers and ExtraTreesClassifiers.\n",
      "  warn(\n",
      "D:\\Anaconda\\lib\\site-packages\\sklearn\\ensemble\\_forest.py:427: FutureWarning: `max_features='auto'` has been deprecated in 1.1 and will be removed in 1.3. To keep the past behaviour, explicitly set `max_features='sqrt'` or remove this parameter as it is also the default value for RandomForestClassifiers and ExtraTreesClassifiers.\n",
      "  warn(\n",
      "D:\\Anaconda\\lib\\site-packages\\sklearn\\ensemble\\_forest.py:427: FutureWarning: `max_features='auto'` has been deprecated in 1.1 and will be removed in 1.3. To keep the past behaviour, explicitly set `max_features='sqrt'` or remove this parameter as it is also the default value for RandomForestClassifiers and ExtraTreesClassifiers.\n",
      "  warn(\n",
      "D:\\Anaconda\\lib\\site-packages\\sklearn\\ensemble\\_forest.py:427: FutureWarning: `max_features='auto'` has been deprecated in 1.1 and will be removed in 1.3. To keep the past behaviour, explicitly set `max_features='sqrt'` or remove this parameter as it is also the default value for RandomForestClassifiers and ExtraTreesClassifiers.\n",
      "  warn(\n",
      "D:\\Anaconda\\lib\\site-packages\\sklearn\\ensemble\\_forest.py:427: FutureWarning: `max_features='auto'` has been deprecated in 1.1 and will be removed in 1.3. To keep the past behaviour, explicitly set `max_features='sqrt'` or remove this parameter as it is also the default value for RandomForestClassifiers and ExtraTreesClassifiers.\n",
      "  warn(\n",
      "D:\\Anaconda\\lib\\site-packages\\sklearn\\ensemble\\_forest.py:427: FutureWarning: `max_features='auto'` has been deprecated in 1.1 and will be removed in 1.3. To keep the past behaviour, explicitly set `max_features='sqrt'` or remove this parameter as it is also the default value for RandomForestClassifiers and ExtraTreesClassifiers.\n",
      "  warn(\n",
      "D:\\Anaconda\\lib\\site-packages\\sklearn\\ensemble\\_forest.py:427: FutureWarning: `max_features='auto'` has been deprecated in 1.1 and will be removed in 1.3. To keep the past behaviour, explicitly set `max_features='sqrt'` or remove this parameter as it is also the default value for RandomForestClassifiers and ExtraTreesClassifiers.\n",
      "  warn(\n",
      "D:\\Anaconda\\lib\\site-packages\\sklearn\\ensemble\\_forest.py:427: FutureWarning: `max_features='auto'` has been deprecated in 1.1 and will be removed in 1.3. To keep the past behaviour, explicitly set `max_features='sqrt'` or remove this parameter as it is also the default value for RandomForestClassifiers and ExtraTreesClassifiers.\n",
      "  warn(\n",
      "D:\\Anaconda\\lib\\site-packages\\sklearn\\ensemble\\_forest.py:427: FutureWarning: `max_features='auto'` has been deprecated in 1.1 and will be removed in 1.3. To keep the past behaviour, explicitly set `max_features='sqrt'` or remove this parameter as it is also the default value for RandomForestClassifiers and ExtraTreesClassifiers.\n",
      "  warn(\n",
      "D:\\Anaconda\\lib\\site-packages\\sklearn\\ensemble\\_forest.py:427: FutureWarning: `max_features='auto'` has been deprecated in 1.1 and will be removed in 1.3. To keep the past behaviour, explicitly set `max_features='sqrt'` or remove this parameter as it is also the default value for RandomForestClassifiers and ExtraTreesClassifiers.\n",
      "  warn(\n",
      "D:\\Anaconda\\lib\\site-packages\\sklearn\\ensemble\\_forest.py:427: FutureWarning: `max_features='auto'` has been deprecated in 1.1 and will be removed in 1.3. To keep the past behaviour, explicitly set `max_features='sqrt'` or remove this parameter as it is also the default value for RandomForestClassifiers and ExtraTreesClassifiers.\n",
      "  warn(\n",
      "D:\\Anaconda\\lib\\site-packages\\sklearn\\ensemble\\_forest.py:427: FutureWarning: `max_features='auto'` has been deprecated in 1.1 and will be removed in 1.3. To keep the past behaviour, explicitly set `max_features='sqrt'` or remove this parameter as it is also the default value for RandomForestClassifiers and ExtraTreesClassifiers.\n",
      "  warn(\n",
      "D:\\Anaconda\\lib\\site-packages\\sklearn\\ensemble\\_forest.py:427: FutureWarning: `max_features='auto'` has been deprecated in 1.1 and will be removed in 1.3. To keep the past behaviour, explicitly set `max_features='sqrt'` or remove this parameter as it is also the default value for RandomForestClassifiers and ExtraTreesClassifiers.\n",
      "  warn(\n",
      "D:\\Anaconda\\lib\\site-packages\\sklearn\\ensemble\\_forest.py:427: FutureWarning: `max_features='auto'` has been deprecated in 1.1 and will be removed in 1.3. To keep the past behaviour, explicitly set `max_features='sqrt'` or remove this parameter as it is also the default value for RandomForestClassifiers and ExtraTreesClassifiers.\n",
      "  warn(\n",
      "D:\\Anaconda\\lib\\site-packages\\sklearn\\ensemble\\_forest.py:427: FutureWarning: `max_features='auto'` has been deprecated in 1.1 and will be removed in 1.3. To keep the past behaviour, explicitly set `max_features='sqrt'` or remove this parameter as it is also the default value for RandomForestClassifiers and ExtraTreesClassifiers.\n",
      "  warn(\n",
      "D:\\Anaconda\\lib\\site-packages\\sklearn\\ensemble\\_forest.py:427: FutureWarning: `max_features='auto'` has been deprecated in 1.1 and will be removed in 1.3. To keep the past behaviour, explicitly set `max_features='sqrt'` or remove this parameter as it is also the default value for RandomForestClassifiers and ExtraTreesClassifiers.\n",
      "  warn(\n",
      "D:\\Anaconda\\lib\\site-packages\\sklearn\\ensemble\\_forest.py:427: FutureWarning: `max_features='auto'` has been deprecated in 1.1 and will be removed in 1.3. To keep the past behaviour, explicitly set `max_features='sqrt'` or remove this parameter as it is also the default value for RandomForestClassifiers and ExtraTreesClassifiers.\n",
      "  warn(\n",
      "D:\\Anaconda\\lib\\site-packages\\sklearn\\ensemble\\_forest.py:427: FutureWarning: `max_features='auto'` has been deprecated in 1.1 and will be removed in 1.3. To keep the past behaviour, explicitly set `max_features='sqrt'` or remove this parameter as it is also the default value for RandomForestClassifiers and ExtraTreesClassifiers.\n",
      "  warn(\n",
      "D:\\Anaconda\\lib\\site-packages\\sklearn\\ensemble\\_forest.py:427: FutureWarning: `max_features='auto'` has been deprecated in 1.1 and will be removed in 1.3. To keep the past behaviour, explicitly set `max_features='sqrt'` or remove this parameter as it is also the default value for RandomForestClassifiers and ExtraTreesClassifiers.\n",
      "  warn(\n",
      "D:\\Anaconda\\lib\\site-packages\\sklearn\\ensemble\\_forest.py:427: FutureWarning: `max_features='auto'` has been deprecated in 1.1 and will be removed in 1.3. To keep the past behaviour, explicitly set `max_features='sqrt'` or remove this parameter as it is also the default value for RandomForestClassifiers and ExtraTreesClassifiers.\n",
      "  warn(\n",
      "D:\\Anaconda\\lib\\site-packages\\sklearn\\ensemble\\_forest.py:427: FutureWarning: `max_features='auto'` has been deprecated in 1.1 and will be removed in 1.3. To keep the past behaviour, explicitly set `max_features='sqrt'` or remove this parameter as it is also the default value for RandomForestClassifiers and ExtraTreesClassifiers.\n",
      "  warn(\n",
      "D:\\Anaconda\\lib\\site-packages\\sklearn\\ensemble\\_forest.py:427: FutureWarning: `max_features='auto'` has been deprecated in 1.1 and will be removed in 1.3. To keep the past behaviour, explicitly set `max_features='sqrt'` or remove this parameter as it is also the default value for RandomForestClassifiers and ExtraTreesClassifiers.\n",
      "  warn(\n",
      "D:\\Anaconda\\lib\\site-packages\\sklearn\\ensemble\\_forest.py:427: FutureWarning: `max_features='auto'` has been deprecated in 1.1 and will be removed in 1.3. To keep the past behaviour, explicitly set `max_features='sqrt'` or remove this parameter as it is also the default value for RandomForestClassifiers and ExtraTreesClassifiers.\n",
      "  warn(\n"
     ]
    },
    {
     "name": "stderr",
     "output_type": "stream",
     "text": [
      "D:\\Anaconda\\lib\\site-packages\\sklearn\\ensemble\\_forest.py:427: FutureWarning: `max_features='auto'` has been deprecated in 1.1 and will be removed in 1.3. To keep the past behaviour, explicitly set `max_features='sqrt'` or remove this parameter as it is also the default value for RandomForestClassifiers and ExtraTreesClassifiers.\n",
      "  warn(\n",
      "D:\\Anaconda\\lib\\site-packages\\sklearn\\ensemble\\_forest.py:427: FutureWarning: `max_features='auto'` has been deprecated in 1.1 and will be removed in 1.3. To keep the past behaviour, explicitly set `max_features='sqrt'` or remove this parameter as it is also the default value for RandomForestClassifiers and ExtraTreesClassifiers.\n",
      "  warn(\n",
      "D:\\Anaconda\\lib\\site-packages\\sklearn\\ensemble\\_forest.py:427: FutureWarning: `max_features='auto'` has been deprecated in 1.1 and will be removed in 1.3. To keep the past behaviour, explicitly set `max_features='sqrt'` or remove this parameter as it is also the default value for RandomForestClassifiers and ExtraTreesClassifiers.\n",
      "  warn(\n",
      "D:\\Anaconda\\lib\\site-packages\\sklearn\\ensemble\\_forest.py:427: FutureWarning: `max_features='auto'` has been deprecated in 1.1 and will be removed in 1.3. To keep the past behaviour, explicitly set `max_features='sqrt'` or remove this parameter as it is also the default value for RandomForestClassifiers and ExtraTreesClassifiers.\n",
      "  warn(\n",
      "D:\\Anaconda\\lib\\site-packages\\sklearn\\ensemble\\_forest.py:427: FutureWarning: `max_features='auto'` has been deprecated in 1.1 and will be removed in 1.3. To keep the past behaviour, explicitly set `max_features='sqrt'` or remove this parameter as it is also the default value for RandomForestClassifiers and ExtraTreesClassifiers.\n",
      "  warn(\n",
      "D:\\Anaconda\\lib\\site-packages\\sklearn\\ensemble\\_forest.py:427: FutureWarning: `max_features='auto'` has been deprecated in 1.1 and will be removed in 1.3. To keep the past behaviour, explicitly set `max_features='sqrt'` or remove this parameter as it is also the default value for RandomForestClassifiers and ExtraTreesClassifiers.\n",
      "  warn(\n",
      "D:\\Anaconda\\lib\\site-packages\\sklearn\\ensemble\\_forest.py:427: FutureWarning: `max_features='auto'` has been deprecated in 1.1 and will be removed in 1.3. To keep the past behaviour, explicitly set `max_features='sqrt'` or remove this parameter as it is also the default value for RandomForestClassifiers and ExtraTreesClassifiers.\n",
      "  warn(\n",
      "D:\\Anaconda\\lib\\site-packages\\sklearn\\ensemble\\_forest.py:427: FutureWarning: `max_features='auto'` has been deprecated in 1.1 and will be removed in 1.3. To keep the past behaviour, explicitly set `max_features='sqrt'` or remove this parameter as it is also the default value for RandomForestClassifiers and ExtraTreesClassifiers.\n",
      "  warn(\n",
      "D:\\Anaconda\\lib\\site-packages\\sklearn\\ensemble\\_forest.py:427: FutureWarning: `max_features='auto'` has been deprecated in 1.1 and will be removed in 1.3. To keep the past behaviour, explicitly set `max_features='sqrt'` or remove this parameter as it is also the default value for RandomForestClassifiers and ExtraTreesClassifiers.\n",
      "  warn(\n",
      "D:\\Anaconda\\lib\\site-packages\\sklearn\\ensemble\\_forest.py:427: FutureWarning: `max_features='auto'` has been deprecated in 1.1 and will be removed in 1.3. To keep the past behaviour, explicitly set `max_features='sqrt'` or remove this parameter as it is also the default value for RandomForestClassifiers and ExtraTreesClassifiers.\n",
      "  warn(\n",
      "D:\\Anaconda\\lib\\site-packages\\sklearn\\ensemble\\_forest.py:427: FutureWarning: `max_features='auto'` has been deprecated in 1.1 and will be removed in 1.3. To keep the past behaviour, explicitly set `max_features='sqrt'` or remove this parameter as it is also the default value for RandomForestClassifiers and ExtraTreesClassifiers.\n",
      "  warn(\n",
      "D:\\Anaconda\\lib\\site-packages\\sklearn\\ensemble\\_forest.py:427: FutureWarning: `max_features='auto'` has been deprecated in 1.1 and will be removed in 1.3. To keep the past behaviour, explicitly set `max_features='sqrt'` or remove this parameter as it is also the default value for RandomForestClassifiers and ExtraTreesClassifiers.\n",
      "  warn(\n",
      "D:\\Anaconda\\lib\\site-packages\\sklearn\\ensemble\\_forest.py:427: FutureWarning: `max_features='auto'` has been deprecated in 1.1 and will be removed in 1.3. To keep the past behaviour, explicitly set `max_features='sqrt'` or remove this parameter as it is also the default value for RandomForestClassifiers and ExtraTreesClassifiers.\n",
      "  warn(\n",
      "D:\\Anaconda\\lib\\site-packages\\sklearn\\ensemble\\_forest.py:427: FutureWarning: `max_features='auto'` has been deprecated in 1.1 and will be removed in 1.3. To keep the past behaviour, explicitly set `max_features='sqrt'` or remove this parameter as it is also the default value for RandomForestClassifiers and ExtraTreesClassifiers.\n",
      "  warn(\n",
      "D:\\Anaconda\\lib\\site-packages\\sklearn\\ensemble\\_forest.py:427: FutureWarning: `max_features='auto'` has been deprecated in 1.1 and will be removed in 1.3. To keep the past behaviour, explicitly set `max_features='sqrt'` or remove this parameter as it is also the default value for RandomForestClassifiers and ExtraTreesClassifiers.\n",
      "  warn(\n",
      "D:\\Anaconda\\lib\\site-packages\\sklearn\\ensemble\\_forest.py:427: FutureWarning: `max_features='auto'` has been deprecated in 1.1 and will be removed in 1.3. To keep the past behaviour, explicitly set `max_features='sqrt'` or remove this parameter as it is also the default value for RandomForestClassifiers and ExtraTreesClassifiers.\n",
      "  warn(\n",
      "D:\\Anaconda\\lib\\site-packages\\sklearn\\ensemble\\_forest.py:427: FutureWarning: `max_features='auto'` has been deprecated in 1.1 and will be removed in 1.3. To keep the past behaviour, explicitly set `max_features='sqrt'` or remove this parameter as it is also the default value for RandomForestClassifiers and ExtraTreesClassifiers.\n",
      "  warn(\n",
      "D:\\Anaconda\\lib\\site-packages\\sklearn\\ensemble\\_forest.py:427: FutureWarning: `max_features='auto'` has been deprecated in 1.1 and will be removed in 1.3. To keep the past behaviour, explicitly set `max_features='sqrt'` or remove this parameter as it is also the default value for RandomForestClassifiers and ExtraTreesClassifiers.\n",
      "  warn(\n",
      "D:\\Anaconda\\lib\\site-packages\\sklearn\\ensemble\\_forest.py:427: FutureWarning: `max_features='auto'` has been deprecated in 1.1 and will be removed in 1.3. To keep the past behaviour, explicitly set `max_features='sqrt'` or remove this parameter as it is also the default value for RandomForestClassifiers and ExtraTreesClassifiers.\n",
      "  warn(\n",
      "D:\\Anaconda\\lib\\site-packages\\sklearn\\ensemble\\_forest.py:427: FutureWarning: `max_features='auto'` has been deprecated in 1.1 and will be removed in 1.3. To keep the past behaviour, explicitly set `max_features='sqrt'` or remove this parameter as it is also the default value for RandomForestClassifiers and ExtraTreesClassifiers.\n",
      "  warn(\n",
      "D:\\Anaconda\\lib\\site-packages\\sklearn\\ensemble\\_forest.py:427: FutureWarning: `max_features='auto'` has been deprecated in 1.1 and will be removed in 1.3. To keep the past behaviour, explicitly set `max_features='sqrt'` or remove this parameter as it is also the default value for RandomForestClassifiers and ExtraTreesClassifiers.\n",
      "  warn(\n",
      "D:\\Anaconda\\lib\\site-packages\\sklearn\\ensemble\\_forest.py:427: FutureWarning: `max_features='auto'` has been deprecated in 1.1 and will be removed in 1.3. To keep the past behaviour, explicitly set `max_features='sqrt'` or remove this parameter as it is also the default value for RandomForestClassifiers and ExtraTreesClassifiers.\n",
      "  warn(\n",
      "D:\\Anaconda\\lib\\site-packages\\sklearn\\ensemble\\_forest.py:427: FutureWarning: `max_features='auto'` has been deprecated in 1.1 and will be removed in 1.3. To keep the past behaviour, explicitly set `max_features='sqrt'` or remove this parameter as it is also the default value for RandomForestClassifiers and ExtraTreesClassifiers.\n",
      "  warn(\n",
      "D:\\Anaconda\\lib\\site-packages\\sklearn\\ensemble\\_forest.py:427: FutureWarning: `max_features='auto'` has been deprecated in 1.1 and will be removed in 1.3. To keep the past behaviour, explicitly set `max_features='sqrt'` or remove this parameter as it is also the default value for RandomForestClassifiers and ExtraTreesClassifiers.\n",
      "  warn(\n",
      "D:\\Anaconda\\lib\\site-packages\\sklearn\\ensemble\\_forest.py:427: FutureWarning: `max_features='auto'` has been deprecated in 1.1 and will be removed in 1.3. To keep the past behaviour, explicitly set `max_features='sqrt'` or remove this parameter as it is also the default value for RandomForestClassifiers and ExtraTreesClassifiers.\n",
      "  warn(\n"
     ]
    },
    {
     "name": "stderr",
     "output_type": "stream",
     "text": [
      "D:\\Anaconda\\lib\\site-packages\\sklearn\\ensemble\\_forest.py:427: FutureWarning: `max_features='auto'` has been deprecated in 1.1 and will be removed in 1.3. To keep the past behaviour, explicitly set `max_features='sqrt'` or remove this parameter as it is also the default value for RandomForestClassifiers and ExtraTreesClassifiers.\n",
      "  warn(\n",
      "D:\\Anaconda\\lib\\site-packages\\sklearn\\ensemble\\_forest.py:427: FutureWarning: `max_features='auto'` has been deprecated in 1.1 and will be removed in 1.3. To keep the past behaviour, explicitly set `max_features='sqrt'` or remove this parameter as it is also the default value for RandomForestClassifiers and ExtraTreesClassifiers.\n",
      "  warn(\n",
      "D:\\Anaconda\\lib\\site-packages\\sklearn\\ensemble\\_forest.py:427: FutureWarning: `max_features='auto'` has been deprecated in 1.1 and will be removed in 1.3. To keep the past behaviour, explicitly set `max_features='sqrt'` or remove this parameter as it is also the default value for RandomForestClassifiers and ExtraTreesClassifiers.\n",
      "  warn(\n",
      "D:\\Anaconda\\lib\\site-packages\\sklearn\\ensemble\\_forest.py:427: FutureWarning: `max_features='auto'` has been deprecated in 1.1 and will be removed in 1.3. To keep the past behaviour, explicitly set `max_features='sqrt'` or remove this parameter as it is also the default value for RandomForestClassifiers and ExtraTreesClassifiers.\n",
      "  warn(\n",
      "D:\\Anaconda\\lib\\site-packages\\sklearn\\ensemble\\_forest.py:427: FutureWarning: `max_features='auto'` has been deprecated in 1.1 and will be removed in 1.3. To keep the past behaviour, explicitly set `max_features='sqrt'` or remove this parameter as it is also the default value for RandomForestClassifiers and ExtraTreesClassifiers.\n",
      "  warn(\n",
      "D:\\Anaconda\\lib\\site-packages\\sklearn\\ensemble\\_forest.py:427: FutureWarning: `max_features='auto'` has been deprecated in 1.1 and will be removed in 1.3. To keep the past behaviour, explicitly set `max_features='sqrt'` or remove this parameter as it is also the default value for RandomForestClassifiers and ExtraTreesClassifiers.\n",
      "  warn(\n",
      "D:\\Anaconda\\lib\\site-packages\\sklearn\\ensemble\\_forest.py:427: FutureWarning: `max_features='auto'` has been deprecated in 1.1 and will be removed in 1.3. To keep the past behaviour, explicitly set `max_features='sqrt'` or remove this parameter as it is also the default value for RandomForestClassifiers and ExtraTreesClassifiers.\n",
      "  warn(\n",
      "D:\\Anaconda\\lib\\site-packages\\sklearn\\ensemble\\_forest.py:427: FutureWarning: `max_features='auto'` has been deprecated in 1.1 and will be removed in 1.3. To keep the past behaviour, explicitly set `max_features='sqrt'` or remove this parameter as it is also the default value for RandomForestClassifiers and ExtraTreesClassifiers.\n",
      "  warn(\n",
      "D:\\Anaconda\\lib\\site-packages\\sklearn\\ensemble\\_forest.py:427: FutureWarning: `max_features='auto'` has been deprecated in 1.1 and will be removed in 1.3. To keep the past behaviour, explicitly set `max_features='sqrt'` or remove this parameter as it is also the default value for RandomForestClassifiers and ExtraTreesClassifiers.\n",
      "  warn(\n",
      "D:\\Anaconda\\lib\\site-packages\\sklearn\\ensemble\\_forest.py:427: FutureWarning: `max_features='auto'` has been deprecated in 1.1 and will be removed in 1.3. To keep the past behaviour, explicitly set `max_features='sqrt'` or remove this parameter as it is also the default value for RandomForestClassifiers and ExtraTreesClassifiers.\n",
      "  warn(\n",
      "D:\\Anaconda\\lib\\site-packages\\sklearn\\ensemble\\_forest.py:427: FutureWarning: `max_features='auto'` has been deprecated in 1.1 and will be removed in 1.3. To keep the past behaviour, explicitly set `max_features='sqrt'` or remove this parameter as it is also the default value for RandomForestClassifiers and ExtraTreesClassifiers.\n",
      "  warn(\n",
      "D:\\Anaconda\\lib\\site-packages\\sklearn\\ensemble\\_forest.py:427: FutureWarning: `max_features='auto'` has been deprecated in 1.1 and will be removed in 1.3. To keep the past behaviour, explicitly set `max_features='sqrt'` or remove this parameter as it is also the default value for RandomForestClassifiers and ExtraTreesClassifiers.\n",
      "  warn(\n",
      "D:\\Anaconda\\lib\\site-packages\\sklearn\\ensemble\\_forest.py:427: FutureWarning: `max_features='auto'` has been deprecated in 1.1 and will be removed in 1.3. To keep the past behaviour, explicitly set `max_features='sqrt'` or remove this parameter as it is also the default value for RandomForestClassifiers and ExtraTreesClassifiers.\n",
      "  warn(\n",
      "D:\\Anaconda\\lib\\site-packages\\sklearn\\ensemble\\_forest.py:427: FutureWarning: `max_features='auto'` has been deprecated in 1.1 and will be removed in 1.3. To keep the past behaviour, explicitly set `max_features='sqrt'` or remove this parameter as it is also the default value for RandomForestClassifiers and ExtraTreesClassifiers.\n",
      "  warn(\n",
      "D:\\Anaconda\\lib\\site-packages\\sklearn\\ensemble\\_forest.py:427: FutureWarning: `max_features='auto'` has been deprecated in 1.1 and will be removed in 1.3. To keep the past behaviour, explicitly set `max_features='sqrt'` or remove this parameter as it is also the default value for RandomForestClassifiers and ExtraTreesClassifiers.\n",
      "  warn(\n",
      "D:\\Anaconda\\lib\\site-packages\\sklearn\\ensemble\\_forest.py:427: FutureWarning: `max_features='auto'` has been deprecated in 1.1 and will be removed in 1.3. To keep the past behaviour, explicitly set `max_features='sqrt'` or remove this parameter as it is also the default value for RandomForestClassifiers and ExtraTreesClassifiers.\n",
      "  warn(\n",
      "D:\\Anaconda\\lib\\site-packages\\sklearn\\ensemble\\_forest.py:427: FutureWarning: `max_features='auto'` has been deprecated in 1.1 and will be removed in 1.3. To keep the past behaviour, explicitly set `max_features='sqrt'` or remove this parameter as it is also the default value for RandomForestClassifiers and ExtraTreesClassifiers.\n",
      "  warn(\n",
      "D:\\Anaconda\\lib\\site-packages\\sklearn\\ensemble\\_forest.py:427: FutureWarning: `max_features='auto'` has been deprecated in 1.1 and will be removed in 1.3. To keep the past behaviour, explicitly set `max_features='sqrt'` or remove this parameter as it is also the default value for RandomForestClassifiers and ExtraTreesClassifiers.\n",
      "  warn(\n",
      "D:\\Anaconda\\lib\\site-packages\\sklearn\\ensemble\\_forest.py:427: FutureWarning: `max_features='auto'` has been deprecated in 1.1 and will be removed in 1.3. To keep the past behaviour, explicitly set `max_features='sqrt'` or remove this parameter as it is also the default value for RandomForestClassifiers and ExtraTreesClassifiers.\n",
      "  warn(\n",
      "D:\\Anaconda\\lib\\site-packages\\sklearn\\ensemble\\_forest.py:427: FutureWarning: `max_features='auto'` has been deprecated in 1.1 and will be removed in 1.3. To keep the past behaviour, explicitly set `max_features='sqrt'` or remove this parameter as it is also the default value for RandomForestClassifiers and ExtraTreesClassifiers.\n",
      "  warn(\n",
      "D:\\Anaconda\\lib\\site-packages\\sklearn\\ensemble\\_forest.py:427: FutureWarning: `max_features='auto'` has been deprecated in 1.1 and will be removed in 1.3. To keep the past behaviour, explicitly set `max_features='sqrt'` or remove this parameter as it is also the default value for RandomForestClassifiers and ExtraTreesClassifiers.\n",
      "  warn(\n",
      "D:\\Anaconda\\lib\\site-packages\\sklearn\\ensemble\\_forest.py:427: FutureWarning: `max_features='auto'` has been deprecated in 1.1 and will be removed in 1.3. To keep the past behaviour, explicitly set `max_features='sqrt'` or remove this parameter as it is also the default value for RandomForestClassifiers and ExtraTreesClassifiers.\n",
      "  warn(\n",
      "D:\\Anaconda\\lib\\site-packages\\sklearn\\ensemble\\_forest.py:427: FutureWarning: `max_features='auto'` has been deprecated in 1.1 and will be removed in 1.3. To keep the past behaviour, explicitly set `max_features='sqrt'` or remove this parameter as it is also the default value for RandomForestClassifiers and ExtraTreesClassifiers.\n",
      "  warn(\n",
      "D:\\Anaconda\\lib\\site-packages\\sklearn\\ensemble\\_forest.py:427: FutureWarning: `max_features='auto'` has been deprecated in 1.1 and will be removed in 1.3. To keep the past behaviour, explicitly set `max_features='sqrt'` or remove this parameter as it is also the default value for RandomForestClassifiers and ExtraTreesClassifiers.\n",
      "  warn(\n",
      "D:\\Anaconda\\lib\\site-packages\\sklearn\\ensemble\\_forest.py:427: FutureWarning: `max_features='auto'` has been deprecated in 1.1 and will be removed in 1.3. To keep the past behaviour, explicitly set `max_features='sqrt'` or remove this parameter as it is also the default value for RandomForestClassifiers and ExtraTreesClassifiers.\n",
      "  warn(\n"
     ]
    },
    {
     "name": "stderr",
     "output_type": "stream",
     "text": [
      "D:\\Anaconda\\lib\\site-packages\\sklearn\\ensemble\\_forest.py:427: FutureWarning: `max_features='auto'` has been deprecated in 1.1 and will be removed in 1.3. To keep the past behaviour, explicitly set `max_features='sqrt'` or remove this parameter as it is also the default value for RandomForestClassifiers and ExtraTreesClassifiers.\n",
      "  warn(\n",
      "D:\\Anaconda\\lib\\site-packages\\sklearn\\ensemble\\_forest.py:427: FutureWarning: `max_features='auto'` has been deprecated in 1.1 and will be removed in 1.3. To keep the past behaviour, explicitly set `max_features='sqrt'` or remove this parameter as it is also the default value for RandomForestClassifiers and ExtraTreesClassifiers.\n",
      "  warn(\n",
      "D:\\Anaconda\\lib\\site-packages\\sklearn\\ensemble\\_forest.py:427: FutureWarning: `max_features='auto'` has been deprecated in 1.1 and will be removed in 1.3. To keep the past behaviour, explicitly set `max_features='sqrt'` or remove this parameter as it is also the default value for RandomForestClassifiers and ExtraTreesClassifiers.\n",
      "  warn(\n",
      "D:\\Anaconda\\lib\\site-packages\\sklearn\\ensemble\\_forest.py:427: FutureWarning: `max_features='auto'` has been deprecated in 1.1 and will be removed in 1.3. To keep the past behaviour, explicitly set `max_features='sqrt'` or remove this parameter as it is also the default value for RandomForestClassifiers and ExtraTreesClassifiers.\n",
      "  warn(\n",
      "D:\\Anaconda\\lib\\site-packages\\sklearn\\ensemble\\_forest.py:427: FutureWarning: `max_features='auto'` has been deprecated in 1.1 and will be removed in 1.3. To keep the past behaviour, explicitly set `max_features='sqrt'` or remove this parameter as it is also the default value for RandomForestClassifiers and ExtraTreesClassifiers.\n",
      "  warn(\n",
      "D:\\Anaconda\\lib\\site-packages\\sklearn\\ensemble\\_forest.py:427: FutureWarning: `max_features='auto'` has been deprecated in 1.1 and will be removed in 1.3. To keep the past behaviour, explicitly set `max_features='sqrt'` or remove this parameter as it is also the default value for RandomForestClassifiers and ExtraTreesClassifiers.\n",
      "  warn(\n",
      "D:\\Anaconda\\lib\\site-packages\\sklearn\\ensemble\\_forest.py:427: FutureWarning: `max_features='auto'` has been deprecated in 1.1 and will be removed in 1.3. To keep the past behaviour, explicitly set `max_features='sqrt'` or remove this parameter as it is also the default value for RandomForestClassifiers and ExtraTreesClassifiers.\n",
      "  warn(\n",
      "D:\\Anaconda\\lib\\site-packages\\sklearn\\ensemble\\_forest.py:427: FutureWarning: `max_features='auto'` has been deprecated in 1.1 and will be removed in 1.3. To keep the past behaviour, explicitly set `max_features='sqrt'` or remove this parameter as it is also the default value for RandomForestClassifiers and ExtraTreesClassifiers.\n",
      "  warn(\n",
      "D:\\Anaconda\\lib\\site-packages\\sklearn\\ensemble\\_forest.py:427: FutureWarning: `max_features='auto'` has been deprecated in 1.1 and will be removed in 1.3. To keep the past behaviour, explicitly set `max_features='sqrt'` or remove this parameter as it is also the default value for RandomForestClassifiers and ExtraTreesClassifiers.\n",
      "  warn(\n",
      "D:\\Anaconda\\lib\\site-packages\\sklearn\\ensemble\\_forest.py:427: FutureWarning: `max_features='auto'` has been deprecated in 1.1 and will be removed in 1.3. To keep the past behaviour, explicitly set `max_features='sqrt'` or remove this parameter as it is also the default value for RandomForestClassifiers and ExtraTreesClassifiers.\n",
      "  warn(\n",
      "D:\\Anaconda\\lib\\site-packages\\sklearn\\ensemble\\_forest.py:427: FutureWarning: `max_features='auto'` has been deprecated in 1.1 and will be removed in 1.3. To keep the past behaviour, explicitly set `max_features='sqrt'` or remove this parameter as it is also the default value for RandomForestClassifiers and ExtraTreesClassifiers.\n",
      "  warn(\n",
      "D:\\Anaconda\\lib\\site-packages\\sklearn\\ensemble\\_forest.py:427: FutureWarning: `max_features='auto'` has been deprecated in 1.1 and will be removed in 1.3. To keep the past behaviour, explicitly set `max_features='sqrt'` or remove this parameter as it is also the default value for RandomForestClassifiers and ExtraTreesClassifiers.\n",
      "  warn(\n",
      "D:\\Anaconda\\lib\\site-packages\\sklearn\\ensemble\\_forest.py:427: FutureWarning: `max_features='auto'` has been deprecated in 1.1 and will be removed in 1.3. To keep the past behaviour, explicitly set `max_features='sqrt'` or remove this parameter as it is also the default value for RandomForestClassifiers and ExtraTreesClassifiers.\n",
      "  warn(\n",
      "D:\\Anaconda\\lib\\site-packages\\sklearn\\ensemble\\_forest.py:427: FutureWarning: `max_features='auto'` has been deprecated in 1.1 and will be removed in 1.3. To keep the past behaviour, explicitly set `max_features='sqrt'` or remove this parameter as it is also the default value for RandomForestClassifiers and ExtraTreesClassifiers.\n",
      "  warn(\n",
      "D:\\Anaconda\\lib\\site-packages\\sklearn\\ensemble\\_forest.py:427: FutureWarning: `max_features='auto'` has been deprecated in 1.1 and will be removed in 1.3. To keep the past behaviour, explicitly set `max_features='sqrt'` or remove this parameter as it is also the default value for RandomForestClassifiers and ExtraTreesClassifiers.\n",
      "  warn(\n",
      "D:\\Anaconda\\lib\\site-packages\\sklearn\\ensemble\\_forest.py:427: FutureWarning: `max_features='auto'` has been deprecated in 1.1 and will be removed in 1.3. To keep the past behaviour, explicitly set `max_features='sqrt'` or remove this parameter as it is also the default value for RandomForestClassifiers and ExtraTreesClassifiers.\n",
      "  warn(\n",
      "D:\\Anaconda\\lib\\site-packages\\sklearn\\ensemble\\_forest.py:427: FutureWarning: `max_features='auto'` has been deprecated in 1.1 and will be removed in 1.3. To keep the past behaviour, explicitly set `max_features='sqrt'` or remove this parameter as it is also the default value for RandomForestClassifiers and ExtraTreesClassifiers.\n",
      "  warn(\n",
      "D:\\Anaconda\\lib\\site-packages\\sklearn\\ensemble\\_forest.py:427: FutureWarning: `max_features='auto'` has been deprecated in 1.1 and will be removed in 1.3. To keep the past behaviour, explicitly set `max_features='sqrt'` or remove this parameter as it is also the default value for RandomForestClassifiers and ExtraTreesClassifiers.\n",
      "  warn(\n",
      "D:\\Anaconda\\lib\\site-packages\\sklearn\\ensemble\\_forest.py:427: FutureWarning: `max_features='auto'` has been deprecated in 1.1 and will be removed in 1.3. To keep the past behaviour, explicitly set `max_features='sqrt'` or remove this parameter as it is also the default value for RandomForestClassifiers and ExtraTreesClassifiers.\n",
      "  warn(\n",
      "D:\\Anaconda\\lib\\site-packages\\sklearn\\ensemble\\_forest.py:427: FutureWarning: `max_features='auto'` has been deprecated in 1.1 and will be removed in 1.3. To keep the past behaviour, explicitly set `max_features='sqrt'` or remove this parameter as it is also the default value for RandomForestClassifiers and ExtraTreesClassifiers.\n",
      "  warn(\n",
      "D:\\Anaconda\\lib\\site-packages\\sklearn\\ensemble\\_forest.py:427: FutureWarning: `max_features='auto'` has been deprecated in 1.1 and will be removed in 1.3. To keep the past behaviour, explicitly set `max_features='sqrt'` or remove this parameter as it is also the default value for RandomForestClassifiers and ExtraTreesClassifiers.\n",
      "  warn(\n"
     ]
    },
    {
     "name": "stdout",
     "output_type": "stream",
     "text": [
      "Best Parameters:  {'criterion': 'gini', 'max_depth': 10, 'max_features': 'auto', 'n_estimators': 200}\n"
     ]
    }
   ],
   "source": [
    "from sklearn.ensemble import RandomForestClassifier\n",
    "# Define the parameter grid for Random Forest\n",
    "param_grid = {\n",
    "    'n_estimators': [50, 100, 200],\n",
    "    'max_features': ['auto', 'sqrt', 'log2'],\n",
    "    'max_depth': [4, 6, 8, 10],\n",
    "    'criterion': ['gini', 'entropy']\n",
    "}\n",
    "\n",
    "# Perform Grid Search with Cross-Validation\n",
    "grid_search = GridSearchCV(RandomForestClassifier(random_state=42), param_grid, cv=5, scoring='accuracy')\n",
    "grid_search.fit(X_train, y_train)\n",
    "\n",
    "# Display the best parameters\n",
    "print(\"Best Parameters: \", grid_search.best_params_)\n",
    "\n",
    "\n",
    "\n"
   ]
  },
  {
   "cell_type": "code",
   "execution_count": 30,
   "id": "089e61f6",
   "metadata": {},
   "outputs": [
    {
     "name": "stderr",
     "output_type": "stream",
     "text": [
      "D:\\Anaconda\\lib\\site-packages\\sklearn\\ensemble\\_forest.py:427: FutureWarning: `max_features='auto'` has been deprecated in 1.1 and will be removed in 1.3. To keep the past behaviour, explicitly set `max_features='sqrt'` or remove this parameter as it is also the default value for RandomForestClassifiers and ExtraTreesClassifiers.\n",
      "  warn(\n"
     ]
    },
    {
     "name": "stdout",
     "output_type": "stream",
     "text": [
      "Classification Report:\n",
      "              precision    recall  f1-score   support\n",
      "\n",
      "           0       0.88      0.97      0.92       612\n",
      "           1       0.78      0.48      0.59       148\n",
      "\n",
      "    accuracy                           0.87       760\n",
      "   macro avg       0.83      0.72      0.76       760\n",
      "weighted avg       0.86      0.87      0.86       760\n",
      "\n"
     ]
    }
   ],
   "source": [
    "# Train the model with the best parameters\n",
    "best_model = grid_search.best_estimator_\n",
    "best_model.fit(X_train, y_train)\n",
    "\n",
    "# Make predictions\n",
    "y_pred = best_model.predict(X_test)\n",
    "\n",
    "# Generate and display the classification report\n",
    "print(\"Classification Report:\")\n",
    "print(classification_report(y_test, y_pred))\n",
    "\n"
   ]
  },
  {
   "cell_type": "code",
   "execution_count": 31,
   "id": "27f6f1d3",
   "metadata": {},
   "outputs": [
    {
     "name": "stdout",
     "output_type": "stream",
     "text": [
      "Confusion Matrix:\n",
      "[[592  20]\n",
      " [ 77  71]]\n"
     ]
    },
    {
     "name": "stderr",
     "output_type": "stream",
     "text": [
      "D:\\Anaconda\\lib\\site-packages\\sklearn\\utils\\deprecation.py:87: FutureWarning: Function plot_confusion_matrix is deprecated; Function `plot_confusion_matrix` is deprecated in 1.0 and will be removed in 1.2. Use one of the class methods: ConfusionMatrixDisplay.from_predictions or ConfusionMatrixDisplay.from_estimator.\n",
      "  warnings.warn(msg, category=FutureWarning)\n"
     ]
    },
    {
     "data": {
      "image/png": "[encoded data removed]",
      "text/plain": [
       "<Figure size 432x288 with 2 Axes>"
      ]
     },
     "metadata": {
      "needs_background": "light"
     },
     "output_type": "display_data"
    }
   ],
   "source": [
    "# Generate and display the confusion matrix\n",
    "print(\"Confusion Matrix:\")\n",
    "cm = confusion_matrix(y_test, y_pred)\n",
    "print(cm)\n",
    "\n",
    "# Plot the confusion matrix\n",
    "plot_confusion_matrix(best_model, X_test, y_test, cmap=plt.cm.Blues)\n",
    "plt.title('Confusion Matrix')\n",
    "plt.show()"
   ]
  },
  {
   "cell_type": "markdown",
   "id": "2f90d7e5",
   "metadata": {},
   "source": [
    "The Random Forest model, optimized through grid search, achieves an overall accuracy of 87% with the best parameters (`criterion='gini'`, `max_depth=10`, `max_features='auto'`, and `n_estimators=200`). The classification report reveals strong performance for the majority class (0) with high precision, recall, and F1-score, but lower metrics for the minority class (1), indicating challenges in accurately predicting this class. The confusion matrix shows a high number of true negatives (592) and true positives (71), with fewer false positives (20) and false negatives (77). Although the model performs well overall, future improvements should focus on addressing class imbalance and updating the `max_features` parameter to avoid deprecation issues. The visualization of the confusion matrix aids in interpreting the model's classification performance, highlighting areas for further enhancement."
   ]
  },
  {
   "cell_type": "markdown",
   "id": "52731f14",
   "metadata": {},
   "source": [
    "# Model Comparison"
   ]
  },
  {
   "cell_type": "code",
   "execution_count": 32,
   "id": "56ff7a72",
   "metadata": {},
   "outputs": [
    {
     "data": {
      "text/plain": [
       "{'KNN vs Decision Tree': Ttest_relResult(statistic=1.261786536288089, pvalue=0.27558888842089185),\n",
       " 'KNN vs Logistic Regression': Ttest_relResult(statistic=-1.794017463548623, pvalue=0.14726018115332473),\n",
       " 'KNN vs Random Forest': Ttest_relResult(statistic=-3.3265281411231324, pvalue=0.02920005295704318),\n",
       " 'Decision Tree vs Logistic Regression': Ttest_relResult(statistic=-2.9712575247626813, pvalue=0.04109305305291732),\n",
       " 'Decision Tree vs Random Forest': Ttest_relResult(statistic=-2.684210526315788, pvalue=0.05498753047389996),\n",
       " 'Logistic Regression vs Random Forest': Ttest_relResult(statistic=0.720749970156451, pvalue=0.5109369557217698)}"
      ]
     },
     "execution_count": 32,
     "metadata": {},
     "output_type": "execute_result"
    }
   ],
   "source": [
    "from sklearn.model_selection import cross_val_score\n",
    "from scipy.stats import ttest_rel\n",
    "\n",
    "# Cross-validation scores for each model\n",
    "scores_knn = cross_val_score(KNeighborsClassifier(n_neighbors=7), X_new, y, cv=5, scoring='accuracy')\n",
    "scores_dt = cross_val_score(DecisionTreeClassifier(max_depth=5, min_samples_split=5), X_new, y, cv=5, scoring='accuracy')\n",
    "scores_lr = cross_val_score(LogisticRegression(C=1, max_iter=1000), X_new, y, cv=5, scoring='accuracy')\n",
    "scores_rf = cross_val_score(RandomForestClassifier(max_features='log2', n_estimators=200), X_new, y, cv=5, scoring='accuracy')\n",
    "\n",
    "# Paired t-tests between models\n",
    "ttest_knn_dt = ttest_rel(scores_knn, scores_dt)\n",
    "ttest_knn_lr = ttest_rel(scores_knn, scores_lr)\n",
    "ttest_knn_rf = ttest_rel(scores_knn, scores_rf)\n",
    "ttest_dt_lr = ttest_rel(scores_dt, scores_lr)\n",
    "ttest_dt_rf = ttest_rel(scores_dt, scores_rf)\n",
    "ttest_lr_rf = ttest_rel(scores_lr, scores_rf)\n",
    "\n",
    "{\n",
    "    'KNN vs Decision Tree': ttest_knn_dt,\n",
    "    'KNN vs Logistic Regression': ttest_knn_lr,\n",
    "    'KNN vs Random Forest': ttest_knn_rf,\n",
    "    'Decision Tree vs Logistic Regression': ttest_dt_lr,\n",
    "    'Decision Tree vs Random Forest': ttest_dt_rf,\n",
    "    'Logistic Regression vs Random Forest': ttest_lr_rf\n",
    "}\n",
    "\n"
   ]
  },
  {
   "cell_type": "markdown",
   "id": "fd7630ae",
   "metadata": {},
   "source": [
    "# Critique & Limitations"
   ]
  },
  {
   "cell_type": "markdown",
   "id": "4b579bba",
   "metadata": {},
   "source": [
    "### Critique & Limitations \n",
    "\n",
    "#### Strengths\n",
    "\n",
    "1. **Comprehensive Data Preprocessing:**\n",
    "   - **Handling Missing Values:** By filling missing numerical values with the median and categorical values with the mode, we ensured that the dataset was complete without introducing significant bias.\n",
    "   - **Encoding Categorical Variables:** Converting categorical variables to numerical values enabled the use of a wide range of machine learning algorithms that require numerical input.\n",
    "\n",
    "2. **Effective Feature Selection:**\n",
    "   - **Use of ANOVA F-test:** This statistical method helped in selecting the most relevant features for the classification task, improving model performance by focusing on the most informative variables.\n",
    "\n",
    "3. **Diverse Model Selection:**\n",
    "   - **Multiple Algorithms:** By applying KNN, Decision Tree, Logistic Regression, and Random Forest, we explored a range of machine learning techniques, providing a comprehensive comparison of their effectiveness for the problem at hand.\n",
    "\n",
    "4. **Rigorous Model Tuning:**\n",
    "   - **Grid Search Cross-Validation:** This method ensured that we identified the best hyperparameters for each model, optimizing their performance and providing a fair comparison between different algorithms.\n",
    "\n",
    "5. **Statistical Model Comparison:**\n",
    "   - **Paired t-tests:** Using statistical tests to compare model performances added rigor to our evaluation process, helping us determine if observed differences in accuracy were statistically significant.\n",
    "\n",
    "#### Weaknesses\n",
    "\n",
    "1. **Potential Overfitting:**\n",
    "   - **Complex Models:** Models like Random Forest and Logistic Regression, especially when finely tuned, may overfit the training data. This could reduce their ability to generalize to new, unseen data.\n",
    "\n",
    "2. **Limited Dataset Scope:**\n",
    "   - **Single Location Data:** The dataset focuses on a single location (Albury). This limits the generalizability of the models to other locations with different weather patterns.\n",
    "   - **Temporal Limitations:** The dataset may not cover a sufficiently long period to capture all seasonal variations and long-term trends in weather patterns.\n",
    "\n",
    "3. **Feature Selection Constraints:**\n",
    "   - **ANOVA F-test Limitations:** While effective, this method does not capture complex interactions between features that could be important for predicting rainfall. Advanced feature selection methods like recursive feature elimination (RFE) or embedded methods in tree-based models could be more informative.\n",
    "\n",
    "4. **Performance Metric Limitations:**\n",
    "   - **Accuracy Focus:** While accuracy is important, it might not be the best metric for an imbalanced dataset like weather prediction. Metrics such as precision, recall, F1-score, and ROC-AUC should also be considered to provide a more holistic view of model performance.\n"
   ]
  },
  {
   "cell_type": "markdown",
   "id": "24f1725b",
   "metadata": {},
   "source": [
    "# Project Summary"
   ]
  },
  {
   "cell_type": "markdown",
   "id": "ee34d05b",
   "metadata": {},
   "source": [
    "\n",
    "Our project aimed to predict rainfall using a comprehensive dataset of daily weather observations. The project was divided into two phases: Phase 1 focused on data preparation and exploratory data analysis (EDA), while Phase 2 centered on predictive modeling and model evaluation.\n",
    "\n",
    "#### Phase 1: Data Preparation and Exploratory Data Analysis (EDA)\n",
    "\n",
    "1. **Data Cleaning and Preprocessing:**\n",
    "   - **Handling Missing Values:** We filled missing numerical values with their respective medians and categorical values with their modes to maintain data integrity.\n",
    "   - **Dropping Irrelevant Columns:** Columns that were irrelevant or potentially leading to overfitting were removed.\n",
    "   - **Encoding Categorical Variables:** Categorical features were converted into numerical values using mapping dictionaries to facilitate model training.\n",
    "\n",
    "2. **Exploratory Data Analysis (EDA):**\n",
    "   - **Statistical Summaries:** We generated descriptive statistics for numerical features, including measures such as mean, standard deviation, variance, skewness, and kurtosis.\n",
    "   - **Visualizations:** Various plots such as bar plots, box plots, histograms, scatter plots, and 3D scatter plots were created to understand feature distributions and relationships.\n",
    "   - **Findings:** Key patterns and correlations were identified, such as the relationship between temperature, humidity, and the likelihood of rain.\n",
    "\n",
    "3. **Feature Selection and Engineering:**\n",
    "   - Relevant features were selected based on insights from EDA.\n",
    "   - Interaction terms and aggregated features were created to capture complex relationships within the data.\n",
    "\n",
    "4. **Literature Review:**\n",
    "   - Reviewed studies on the application of machine learning in weather forecasting.\n",
    "   - Highlighted the effectiveness of models like Random Forests and Neural Networks in predicting weather patterns.\n",
    "\n",
    "#### Phase 2: Predictive Modelling and Model Evaluation\n",
    "\n",
    "1. **Feature Selection:**\n",
    "   - **ANOVA F-test:** We used the ANOVA F-test for classification to select the top 10 features based on their F-scores. These features included MaxTemp, WindGustSpeed, WindDir9am, WindSpeed9am, WindSpeed3pm, Humidity9am, Humidity3pm, Pressure9am, Pressure3pm, and Temp3pm.\n",
    "\n",
    "2. **Model Fitting and Tuning:**\n",
    "   - **Models Applied:** We trained and fine-tuned four machine learning models: K-Nearest Neighbors (KNN), Decision Tree, Logistic Regression, and Random Forest.\n",
    "   - **Hyperparameter Tuning:** Grid search cross-validation was performed to find the best hyperparameters for each model:\n",
    "     - **KNN:** Best parameters: `{'n_neighbors': 5}`, Best accuracy: `0.8684`\n",
    "     - **Decision Tree:** Best parameters: `{'max_depth': 3, 'min_samples_split': 2}`, Best accuracy: `0.8711`\n",
    "     - **Logistic Regression:** Best parameters: `{'C': 0.01}`, Best accuracy: `0.88`\n",
    "     - **Random Forest:** Best parameters: `{'max_features': 'auto', 'n_estimators': 200}`, Best accuracy: `0.87`\n",
    "   - **Visualization:** Plots were generated to visualize the hyperparameter tuning process for each model.\n",
    "\n",
    "3. **Model Comparison:**\n",
    "   - **Cross-validation:** We compared the models using cross-validation scores.\n",
    "   - **Paired t-tests:** Statistical tests were performed to identify significant differences between model performances:\n",
    "     - **KNN vs Decision Tree:** No significant difference (p-value > 0.05)\n",
    "     - **KNN vs Logistic Regression:** No significant difference (p-value > 0.05)\n",
    "     - **KNN vs Random Forest:** No Significant difference (p-value > 0.05)\n",
    "     - **Decision Tree vs Logistic Regression:** Significant difference (p-value < 0.05)\n",
    "     - **Decision Tree vs Random Forest:** No significant difference (p-value > 0.05)\n",
    "     - **Logistic Regression vs Random Forest:** No significant difference (p-value > 0.05)\n",
    "\n",
    "4. **Critique and Limitations:**\n",
    "   - **Strengths:** Effective preprocessing, thorough feature selection, diverse model application, and rigorous evaluation.\n",
    "   - **Weaknesses:** Potential overfitting, limited dataset scope, feature selection constraints, exclusion of advanced techniques, assumption of data independence, and reliance on accuracy as the primary metric.\n",
    "\n",
    "5. **Summary and Conclusions:**\n",
    "   - **Findings:** Logistic Regression and Random Forest performed best overall, with Logistic Regression achieving the highest accuracy.\n",
    "   - **Conclusions:** Both models are robust for predicting rainfall based on the selected features. Future work could explore more advanced techniques and larger datasets for improved accuracy.\n",
    "\n",
    "This comprehensive approach ensured that our predictive models were built on a solid foundation of well-prepared data, thorough analysis, and rigorous evaluation."
   ]
  },
  {
   "cell_type": "markdown",
   "id": "8d203713",
   "metadata": {},
   "source": [
    "# Summary of Findings:"
   ]
  },
  {
   "cell_type": "markdown",
   "id": "04ad9d99",
   "metadata": {},
   "source": [
    " \n",
    "\n",
    "In our project, we aimed to predict whether it will rain tomorrow using a dataset of weather observations. After extensive data preparation, feature selection, and model tuning, we applied four machine learning models: K-Nearest Neighbors (KNN), Decision Tree, Logistic Regression, and Random Forest. Here are the key findings from our analysis:\n",
    "\n",
    "1. **Model Performance:**\n",
    "   - **Logistic Regression:** Achieved the highest accuracy of `0.88`. This model performed well due to its ability to handle linear relationships between the features and the target variable.\n",
    "   - **Random Forest:** Closely followed Logistic Regression with an accuracy of `0.8724`. The ensemble nature of Random Forest, which aggregates multiple decision trees, contributed to its robustness and high performance.\n",
    "   - **K-Nearest Neighbors (KNN):** Achieved an accuracy of `0.8684`. KNN's performance was respectable, but it was slightly lower than that of Logistic Regression and Random Forest, likely due to its sensitivity to irrelevant features and the curse of dimensionality.\n",
    "   - **Decision Tree:** Had the lowest accuracy among the models at `0.8711`. While still effective, the Decision Tree was prone to overfitting, which slightly reduced its generalization capability.\n",
    "\n",
    "2. **Hyperparameter Tuning:**\n",
    "   - **KNN:** The optimal number of neighbors was found to be 5. This balance ensured sufficient information from neighbors without overcomplicating the decision boundary.\n",
    "   - **Decision Tree:** The best configuration was a maximum depth of 3 and a minimum samples split of 2, which provided a good trade-off between model complexity and generalization.\n",
    "   - **Logistic Regression:** The optimal regularization parameter (C) was 0.01, indicating a balanced level of regularization that avoided overfitting while maintaining model simplicity.\n",
    "   - **Random Forest:** The best parameters included `max_features` set to 'Auto' and `n_estimators` set to 200, enhancing the model's ability to capture diverse patterns in the data.\n",
    "\n",
    "3. **Statistical Comparisons:**\n",
    "   - Paired t-tests were conducted to compare the models statistically. Significant differences were found between:\n",
    "     - **Decision Tree and Logistic Regression** (p-value < 0.05)\n",
    "   - No significant differences were found between:\n",
    "     - **KNN and Decision Tree**\n",
    "     - **KNN and Logistic Regression**\n",
    "     - **Decision Tree and Random Forest**\n",
    "     - **Logistic Regression and Random Forest**\n",
    "     - **KNN and Random Forest** (p-value < 0.05)\n",
    "4. **Feature Importance:**\n",
    "   - The ANOVA F-test revealed that the most important features for predicting rainfall included MaxTemp, WindGustSpeed, WindDir9am, WindSpeed9am, WindSpeed3pm, Humidity9am, Humidity3pm, Pressure9am, Pressure3pm, and Temp3pm. These features significantly contributed to the predictive power of the models.\n",
    "\n",
    "5. **Model Interpretability and Practicality:**\n",
    "   - **Logistic Regression:** Provided clear insights into the linear relationships between features and the probability of rainfall, making it easy to interpret.\n",
    "   - **Random Forest:** Offered high accuracy and robustness, making it practical for real-world applications despite being less interpretable than Logistic Regression.\n",
    "   - **KNN and Decision Tree:** While effective, these models were slightly less practical due to computational intensity (KNN) and overfitting risks (Decision Tree).\n",
    "\n"
   ]
  },
  {
   "cell_type": "markdown",
   "id": "1ed380c1",
   "metadata": {},
   "source": [
    "# Conclusion"
   ]
  },
  {
   "cell_type": "markdown",
   "id": "ff728f4d",
   "metadata": {},
   "source": [
    "\n",
    "Our project's primary goal was to develop robust predictive models for forecasting whether it will rain tomorrow using a comprehensive weather dataset. Through meticulous data preparation, feature selection, and model evaluation, we achieved several key objectives and derived meaningful conclusions:\n",
    "\n",
    "1. **Effectiveness of Predictive Models:**\n",
    "   - **Logistic Regression and Random Forest emerged as the top performers**, both demonstrating high accuracy and robustness in predicting rainfall. Logistic Regression achieved the highest accuracy of 0.88, closely followed by Random Forest at 0.8724. These models effectively captured the relationships between the selected weather features and the target variable, RainTomorrow.\n",
    "\n",
    "2. **Feature Importance and Selection:**\n",
    "   - The ANOVA F-test successfully identified the most relevant features for predicting rainfall. The top features included MaxTemp, WindGustSpeed, WindDir9am, WindSpeed9am, WindSpeed3pm, Humidity9am, Humidity3pm, Pressure9am, Pressure3pm, and Temp3pm. These features significantly contributed to the predictive power of the models, highlighting the importance of thorough feature selection in improving model performance.\n",
    "\n",
    "3. **Model Interpretability and Practicality:**\n",
    "   - **Logistic Regression** provided clear, interpretable insights into the linear relationships between features and the probability of rainfall, making it a practical choice for applications where model transparency is crucial.\n",
    "   - **Random Forest**, despite being less interpretable, offered high accuracy and robustness, making it suitable for real-world applications where predictive performance is paramount.\n",
    "\n",
    "4. **Comparison of Machine Learning Algorithms:**\n",
    "   - **K-Nearest Neighbors (KNN)** and **Decision Tree** also performed well but were slightly less accurate than Logistic Regression and Random Forest. KNN's accuracy was 0.8684, and Decision Tree's accuracy was 0.8711. These models have specific strengths and weaknesses, such as KNN's sensitivity to irrelevant features and Decision Tree's tendency to overfit.\n",
    "   - Paired t-tests confirmed statistically significant differences between the performances of some models, particularly between KNN and Random Forest, and between Decision Tree and Logistic Regression. This statistical validation reinforced the superiority of Logistic Regression and Random Forest for our specific problem.\n",
    "\n",
    "5. **Robustness and Generalization:**\n",
    "   - The selected models demonstrated strong generalization capabilities, as evidenced by their high cross-validation accuracies. However, the potential for overfitting in more complex models like Decision Tree was noted, emphasizing the need for careful hyperparameter tuning and model validation.\n",
    "\n",
    "6. **Limitations and Future Work:**\n",
    "   - **Data Scope:** The dataset focused on a single location (Albury), limiting the generalizability of the models to other regions with different weather patterns. Expanding the dataset to include more locations and temporal data would enhance model robustness.\n",
    "   - **Advanced Techniques:** Exploring more advanced machine learning techniques, such as Gradient Boosting Machines (e.g., XGBoost) or deep learning models, could further improve predictive performance.\n",
    "   - **Temporal Dependencies:** Incorporating time series analysis techniques to account for temporal dependencies in weather data could enhance prediction accuracy.\n",
    "\n",
    "### Overall Conclusion\n",
    "Our project successfully demonstrated the feasibility and effectiveness of using machine learning models to predict rainfall. Logistic Regression and Random Forest stood out as robust models for this task, achieving high accuracy and providing valuable insights into the relationships between weather features and rainfall. The project's findings underscore the importance of thorough data preparation, feature selection, and model evaluation in developing reliable predictive models. Future work should focus on expanding the dataset, exploring advanced techniques, and incorporating temporal dependencies to further enhance the models' predictive capabilities and generalizability.\n",
    "\n"
   ]
  },
  {
   "cell_type": "code",
   "execution_count": null,
   "id": "d8907efc",
   "metadata": {},
   "outputs": [],
   "source": []
  }
 ],
 "metadata": {
  "kernelspec": {
   "display_name": "Python 3 (ipykernel)",
   "language": "python",
   "name": "python3"
  },
  "language_info": {
   "codemirror_mode": {
    "name": "ipython",
    "version": 3
   },
   "file_extension": ".py",
   "mimetype": "text/x-python",
   "name": "python",
   "nbconvert_exporter": "python",
   "pygments_lexer": "ipython3",
   "version": "3.9.12"
  }
 },
 "nbformat": 4,
 "nbformat_minor": 5
}
